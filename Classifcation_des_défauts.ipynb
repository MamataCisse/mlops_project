{
  "cells": [
    {
      "cell_type": "code",
      "execution_count": 1,
      "id": "5d9912bc",
      "metadata": {},
      "outputs": [],
      "source": [
        "# Install the following librairies (it is better to create a venv (or conda) virtual environment first and install these librairies in it)\n",
        "!pip install mlflow\n",
        "!pip install --upgrade jinja2\n",
        "!pip install --upgrade Flask\n",
        "!pip install setuptools"
      ]
    },
    {
      "cell_type": "code",
      "execution_count": 1,
      "id": "mcnGe05m33eV",
      "metadata": {
        "id": "mcnGe05m33eV"
      },
      "outputs": [],
      "source": [
        "# Importer les bibliothèques nécessaires\n",
        "import pandas as pd\n",
        "import numpy as np\n",
        "from sklearn.model_selection import train_test_split\n",
        "from sklearn.preprocessing import StandardScaler\n",
        "from sklearn.linear_model import LogisticRegression\n",
        "from sklearn.ensemble import RandomForestClassifier\n",
        "from sklearn.metrics import classification_report, roc_auc_score, confusion_matrix\n",
        "import matplotlib.pyplot as plt\n",
        "import seaborn as sns"
      ]
    },
    {
      "cell_type": "markdown",
      "id": "7547148a",
      "metadata": {
        "id": "7547148a"
      },
      "source": [
        "## Load and Explore\n",
        "- Let's quick load and explore to see which one should be the best suitable for this project and for the constraint of available resources, including time, cpu, gpu"
      ]
    },
    {
      "cell_type": "code",
      "execution_count": 2,
      "id": "a_GGePPaOgmz",
      "metadata": {
        "colab": {
          "base_uri": "https://localhost:8080/",
          "height": 93
        },
        "id": "a_GGePPaOgmz",
        "outputId": "1498309d-d9a0-4f82-98af-a5a2bc1184aa"
      },
      "outputs": [
        {
          "data": {
            "text/html": [
              "\n",
              "     <input type=\"file\" id=\"files-905268d3-ca0e-476a-b57b-615fbb211b14\" name=\"files[]\" multiple disabled\n",
              "        style=\"border:none\" />\n",
              "     <output id=\"result-905268d3-ca0e-476a-b57b-615fbb211b14\">\n",
              "      Upload widget is only available when the cell has been executed in the\n",
              "      current browser session. Please rerun this cell to enable.\n",
              "      </output>\n",
              "      <script>// Copyright 2017 Google LLC\n",
              "//\n",
              "// Licensed under the Apache License, Version 2.0 (the \"License\");\n",
              "// you may not use this file except in compliance with the License.\n",
              "// You may obtain a copy of the License at\n",
              "//\n",
              "//      http://www.apache.org/licenses/LICENSE-2.0\n",
              "//\n",
              "// Unless required by applicable law or agreed to in writing, software\n",
              "// distributed under the License is distributed on an \"AS IS\" BASIS,\n",
              "// WITHOUT WARRANTIES OR CONDITIONS OF ANY KIND, either express or implied.\n",
              "// See the License for the specific language governing permissions and\n",
              "// limitations under the License.\n",
              "\n",
              "/**\n",
              " * @fileoverview Helpers for google.colab Python module.\n",
              " */\n",
              "(function(scope) {\n",
              "function span(text, styleAttributes = {}) {\n",
              "  const element = document.createElement('span');\n",
              "  element.textContent = text;\n",
              "  for (const key of Object.keys(styleAttributes)) {\n",
              "    element.style[key] = styleAttributes[key];\n",
              "  }\n",
              "  return element;\n",
              "}\n",
              "\n",
              "// Max number of bytes which will be uploaded at a time.\n",
              "const MAX_PAYLOAD_SIZE = 100 * 1024;\n",
              "\n",
              "function _uploadFiles(inputId, outputId) {\n",
              "  const steps = uploadFilesStep(inputId, outputId);\n",
              "  const outputElement = document.getElementById(outputId);\n",
              "  // Cache steps on the outputElement to make it available for the next call\n",
              "  // to uploadFilesContinue from Python.\n",
              "  outputElement.steps = steps;\n",
              "\n",
              "  return _uploadFilesContinue(outputId);\n",
              "}\n",
              "\n",
              "// This is roughly an async generator (not supported in the browser yet),\n",
              "// where there are multiple asynchronous steps and the Python side is going\n",
              "// to poll for completion of each step.\n",
              "// This uses a Promise to block the python side on completion of each step,\n",
              "// then passes the result of the previous step as the input to the next step.\n",
              "function _uploadFilesContinue(outputId) {\n",
              "  const outputElement = document.getElementById(outputId);\n",
              "  const steps = outputElement.steps;\n",
              "\n",
              "  const next = steps.next(outputElement.lastPromiseValue);\n",
              "  return Promise.resolve(next.value.promise).then((value) => {\n",
              "    // Cache the last promise value to make it available to the next\n",
              "    // step of the generator.\n",
              "    outputElement.lastPromiseValue = value;\n",
              "    return next.value.response;\n",
              "  });\n",
              "}\n",
              "\n",
              "/**\n",
              " * Generator function which is called between each async step of the upload\n",
              " * process.\n",
              " * @param {string} inputId Element ID of the input file picker element.\n",
              " * @param {string} outputId Element ID of the output display.\n",
              " * @return {!Iterable<!Object>} Iterable of next steps.\n",
              " */\n",
              "function* uploadFilesStep(inputId, outputId) {\n",
              "  const inputElement = document.getElementById(inputId);\n",
              "  inputElement.disabled = false;\n",
              "\n",
              "  const outputElement = document.getElementById(outputId);\n",
              "  outputElement.innerHTML = '';\n",
              "\n",
              "  const pickedPromise = new Promise((resolve) => {\n",
              "    inputElement.addEventListener('change', (e) => {\n",
              "      resolve(e.target.files);\n",
              "    });\n",
              "  });\n",
              "\n",
              "  const cancel = document.createElement('button');\n",
              "  inputElement.parentElement.appendChild(cancel);\n",
              "  cancel.textContent = 'Cancel upload';\n",
              "  const cancelPromise = new Promise((resolve) => {\n",
              "    cancel.onclick = () => {\n",
              "      resolve(null);\n",
              "    };\n",
              "  });\n",
              "\n",
              "  // Wait for the user to pick the files.\n",
              "  const files = yield {\n",
              "    promise: Promise.race([pickedPromise, cancelPromise]),\n",
              "    response: {\n",
              "      action: 'starting',\n",
              "    }\n",
              "  };\n",
              "\n",
              "  cancel.remove();\n",
              "\n",
              "  // Disable the input element since further picks are not allowed.\n",
              "  inputElement.disabled = true;\n",
              "\n",
              "  if (!files) {\n",
              "    return {\n",
              "      response: {\n",
              "        action: 'complete',\n",
              "      }\n",
              "    };\n",
              "  }\n",
              "\n",
              "  for (const file of files) {\n",
              "    const li = document.createElement('li');\n",
              "    li.append(span(file.name, {fontWeight: 'bold'}));\n",
              "    li.append(span(\n",
              "        `(${file.type || 'n/a'}) - ${file.size} bytes, ` +\n",
              "        `last modified: ${\n",
              "            file.lastModifiedDate ? file.lastModifiedDate.toLocaleDateString() :\n",
              "                                    'n/a'} - `));\n",
              "    const percent = span('0% done');\n",
              "    li.appendChild(percent);\n",
              "\n",
              "    outputElement.appendChild(li);\n",
              "\n",
              "    const fileDataPromise = new Promise((resolve) => {\n",
              "      const reader = new FileReader();\n",
              "      reader.onload = (e) => {\n",
              "        resolve(e.target.result);\n",
              "      };\n",
              "      reader.readAsArrayBuffer(file);\n",
              "    });\n",
              "    // Wait for the data to be ready.\n",
              "    let fileData = yield {\n",
              "      promise: fileDataPromise,\n",
              "      response: {\n",
              "        action: 'continue',\n",
              "      }\n",
              "    };\n",
              "\n",
              "    // Use a chunked sending to avoid message size limits. See b/62115660.\n",
              "    let position = 0;\n",
              "    do {\n",
              "      const length = Math.min(fileData.byteLength - position, MAX_PAYLOAD_SIZE);\n",
              "      const chunk = new Uint8Array(fileData, position, length);\n",
              "      position += length;\n",
              "\n",
              "      const base64 = btoa(String.fromCharCode.apply(null, chunk));\n",
              "      yield {\n",
              "        response: {\n",
              "          action: 'append',\n",
              "          file: file.name,\n",
              "          data: base64,\n",
              "        },\n",
              "      };\n",
              "\n",
              "      let percentDone = fileData.byteLength === 0 ?\n",
              "          100 :\n",
              "          Math.round((position / fileData.byteLength) * 100);\n",
              "      percent.textContent = `${percentDone}% done`;\n",
              "\n",
              "    } while (position < fileData.byteLength);\n",
              "  }\n",
              "\n",
              "  // All done.\n",
              "  yield {\n",
              "    response: {\n",
              "      action: 'complete',\n",
              "    }\n",
              "  };\n",
              "}\n",
              "\n",
              "scope.google = scope.google || {};\n",
              "scope.google.colab = scope.google.colab || {};\n",
              "scope.google.colab._files = {\n",
              "  _uploadFiles,\n",
              "  _uploadFilesContinue,\n",
              "};\n",
              "})(self);\n",
              "</script> "
            ],
            "text/plain": [
              "<IPython.core.display.HTML object>"
            ]
          },
          "metadata": {},
          "output_type": "display_data"
        },
        {
          "name": "stdout",
          "output_type": "stream",
          "text": [
            "Saving Loan_Data.csv to Loan_Data.csv\n"
          ]
        }
      ],
      "source": [
        "from  google.colab import files\n",
        "uploaded = files.upload()\n"
      ]
    },
    {
      "cell_type": "code",
      "execution_count": 3,
      "id": "a67c7b06",
      "metadata": {
        "id": "a67c7b06"
      },
      "outputs": [],
      "source": [
        "# Get dataset paths\n",
        "df_path = 'Loan_Data.csv'\n"
      ]
    },
    {
      "cell_type": "code",
      "execution_count": 4,
      "id": "15c9b048",
      "metadata": {
        "id": "15c9b048"
      },
      "outputs": [],
      "source": [
        "import pandas as pd\n",
        "\n",
        "# Load datasets\n",
        "df = pd.read_csv(df_path)\n"
      ]
    },
    {
      "cell_type": "code",
      "execution_count": 5,
      "id": "da986a79",
      "metadata": {
        "colab": {
          "base_uri": "https://localhost:8080/",
          "height": 163
        },
        "id": "da986a79",
        "outputId": "5f6e215d-c4b3-4a80-e7d2-58d24cf61350"
      },
      "outputs": [
        {
          "data": {
            "application/vnd.google.colaboratory.intrinsic+json": {
              "summary": "{\n  \"name\": \"df\",\n  \"rows\": 10000,\n  \"fields\": [\n    {\n      \"column\": \"customer_id\",\n      \"properties\": {\n        \"dtype\": \"number\",\n        \"std\": 2293889,\n        \"min\": 1000324,\n        \"max\": 8999789,\n        \"num_unique_values\": 10000,\n        \"samples\": [\n          4625643,\n          3793909,\n          3816784\n        ],\n        \"semantic_type\": \"\",\n        \"description\": \"\"\n      }\n    },\n    {\n      \"column\": \"credit_lines_outstanding\",\n      \"properties\": {\n        \"dtype\": \"number\",\n        \"std\": 1,\n        \"min\": 0,\n        \"max\": 5,\n        \"num_unique_values\": 6,\n        \"samples\": [\n          0,\n          5,\n          3\n        ],\n        \"semantic_type\": \"\",\n        \"description\": \"\"\n      }\n    },\n    {\n      \"column\": \"loan_amt_outstanding\",\n      \"properties\": {\n        \"dtype\": \"number\",\n        \"std\": 1421.3990776378926,\n        \"min\": 46.7839734,\n        \"max\": 10750.67781,\n        \"num_unique_values\": 10000,\n        \"samples\": [\n          3584.844437,\n          5821.006507,\n          5343.193215\n        ],\n        \"semantic_type\": \"\",\n        \"description\": \"\"\n      }\n    },\n    {\n      \"column\": \"total_debt_outstanding\",\n      \"properties\": {\n        \"dtype\": \"number\",\n        \"std\": 6627.164761596831,\n        \"min\": 31.65273156,\n        \"max\": 43688.7841,\n        \"num_unique_values\": 10000,\n        \"samples\": [\n          7708.784716,\n          16345.02539,\n          30614.60303\n        ],\n        \"semantic_type\": \"\",\n        \"description\": \"\"\n      }\n    },\n    {\n      \"column\": \"income\",\n      \"properties\": {\n        \"dtype\": \"number\",\n        \"std\": 20072.214143165438,\n        \"min\": 1000.0,\n        \"max\": 148412.1805,\n        \"num_unique_values\": 9995,\n        \"samples\": [\n          81804.17266,\n          62216.69428,\n          61362.2156\n        ],\n        \"semantic_type\": \"\",\n        \"description\": \"\"\n      }\n    },\n    {\n      \"column\": \"years_employed\",\n      \"properties\": {\n        \"dtype\": \"number\",\n        \"std\": 1,\n        \"min\": 0,\n        \"max\": 10,\n        \"num_unique_values\": 11,\n        \"samples\": [\n          7,\n          5,\n          0\n        ],\n        \"semantic_type\": \"\",\n        \"description\": \"\"\n      }\n    },\n    {\n      \"column\": \"fico_score\",\n      \"properties\": {\n        \"dtype\": \"number\",\n        \"std\": 60,\n        \"min\": 408,\n        \"max\": 850,\n        \"num_unique_values\": 374,\n        \"samples\": [\n          500,\n          560,\n          644\n        ],\n        \"semantic_type\": \"\",\n        \"description\": \"\"\n      }\n    },\n    {\n      \"column\": \"default\",\n      \"properties\": {\n        \"dtype\": \"number\",\n        \"std\": 0,\n        \"min\": 0,\n        \"max\": 1,\n        \"num_unique_values\": 2,\n        \"samples\": [\n          1,\n          0\n        ],\n        \"semantic_type\": \"\",\n        \"description\": \"\"\n      }\n    }\n  ]\n}",
              "type": "dataframe",
              "variable_name": "df"
            },
            "text/html": [
              "\n",
              "  <div id=\"df-eed4adae-2445-4466-a9d9-0b1f2b515bfd\" class=\"colab-df-container\">\n",
              "    <div>\n",
              "<style scoped>\n",
              "    .dataframe tbody tr th:only-of-type {\n",
              "        vertical-align: middle;\n",
              "    }\n",
              "\n",
              "    .dataframe tbody tr th {\n",
              "        vertical-align: top;\n",
              "    }\n",
              "\n",
              "    .dataframe thead th {\n",
              "        text-align: right;\n",
              "    }\n",
              "</style>\n",
              "<table border=\"1\" class=\"dataframe\">\n",
              "  <thead>\n",
              "    <tr style=\"text-align: right;\">\n",
              "      <th></th>\n",
              "      <th>customer_id</th>\n",
              "      <th>credit_lines_outstanding</th>\n",
              "      <th>loan_amt_outstanding</th>\n",
              "      <th>total_debt_outstanding</th>\n",
              "      <th>income</th>\n",
              "      <th>years_employed</th>\n",
              "      <th>fico_score</th>\n",
              "      <th>default</th>\n",
              "    </tr>\n",
              "  </thead>\n",
              "  <tbody>\n",
              "    <tr>\n",
              "      <th>0</th>\n",
              "      <td>8153374</td>\n",
              "      <td>0</td>\n",
              "      <td>5221.545193</td>\n",
              "      <td>3915.471226</td>\n",
              "      <td>78039.38546</td>\n",
              "      <td>5</td>\n",
              "      <td>605</td>\n",
              "      <td>0</td>\n",
              "    </tr>\n",
              "    <tr>\n",
              "      <th>1</th>\n",
              "      <td>7442532</td>\n",
              "      <td>5</td>\n",
              "      <td>1958.928726</td>\n",
              "      <td>8228.752520</td>\n",
              "      <td>26648.43525</td>\n",
              "      <td>2</td>\n",
              "      <td>572</td>\n",
              "      <td>1</td>\n",
              "    </tr>\n",
              "    <tr>\n",
              "      <th>2</th>\n",
              "      <td>2256073</td>\n",
              "      <td>0</td>\n",
              "      <td>3363.009259</td>\n",
              "      <td>2027.830850</td>\n",
              "      <td>65866.71246</td>\n",
              "      <td>4</td>\n",
              "      <td>602</td>\n",
              "      <td>0</td>\n",
              "    </tr>\n",
              "  </tbody>\n",
              "</table>\n",
              "</div>\n",
              "    <div class=\"colab-df-buttons\">\n",
              "\n",
              "  <div class=\"colab-df-container\">\n",
              "    <button class=\"colab-df-convert\" onclick=\"convertToInteractive('df-eed4adae-2445-4466-a9d9-0b1f2b515bfd')\"\n",
              "            title=\"Convert this dataframe to an interactive table.\"\n",
              "            style=\"display:none;\">\n",
              "\n",
              "  <svg xmlns=\"http://www.w3.org/2000/svg\" height=\"24px\" viewBox=\"0 -960 960 960\">\n",
              "    <path d=\"M120-120v-720h720v720H120Zm60-500h600v-160H180v160Zm220 220h160v-160H400v160Zm0 220h160v-160H400v160ZM180-400h160v-160H180v160Zm440 0h160v-160H620v160ZM180-180h160v-160H180v160Zm440 0h160v-160H620v160Z\"/>\n",
              "  </svg>\n",
              "    </button>\n",
              "\n",
              "  <style>\n",
              "    .colab-df-container {\n",
              "      display:flex;\n",
              "      gap: 12px;\n",
              "    }\n",
              "\n",
              "    .colab-df-convert {\n",
              "      background-color: #E8F0FE;\n",
              "      border: none;\n",
              "      border-radius: 50%;\n",
              "      cursor: pointer;\n",
              "      display: none;\n",
              "      fill: #1967D2;\n",
              "      height: 32px;\n",
              "      padding: 0 0 0 0;\n",
              "      width: 32px;\n",
              "    }\n",
              "\n",
              "    .colab-df-convert:hover {\n",
              "      background-color: #E2EBFA;\n",
              "      box-shadow: 0px 1px 2px rgba(60, 64, 67, 0.3), 0px 1px 3px 1px rgba(60, 64, 67, 0.15);\n",
              "      fill: #174EA6;\n",
              "    }\n",
              "\n",
              "    .colab-df-buttons div {\n",
              "      margin-bottom: 4px;\n",
              "    }\n",
              "\n",
              "    [theme=dark] .colab-df-convert {\n",
              "      background-color: #3B4455;\n",
              "      fill: #D2E3FC;\n",
              "    }\n",
              "\n",
              "    [theme=dark] .colab-df-convert:hover {\n",
              "      background-color: #434B5C;\n",
              "      box-shadow: 0px 1px 3px 1px rgba(0, 0, 0, 0.15);\n",
              "      filter: drop-shadow(0px 1px 2px rgba(0, 0, 0, 0.3));\n",
              "      fill: #FFFFFF;\n",
              "    }\n",
              "  </style>\n",
              "\n",
              "    <script>\n",
              "      const buttonEl =\n",
              "        document.querySelector('#df-eed4adae-2445-4466-a9d9-0b1f2b515bfd button.colab-df-convert');\n",
              "      buttonEl.style.display =\n",
              "        google.colab.kernel.accessAllowed ? 'block' : 'none';\n",
              "\n",
              "      async function convertToInteractive(key) {\n",
              "        const element = document.querySelector('#df-eed4adae-2445-4466-a9d9-0b1f2b515bfd');\n",
              "        const dataTable =\n",
              "          await google.colab.kernel.invokeFunction('convertToInteractive',\n",
              "                                                    [key], {});\n",
              "        if (!dataTable) return;\n",
              "\n",
              "        const docLinkHtml = 'Like what you see? Visit the ' +\n",
              "          '<a target=\"_blank\" href=https://colab.research.google.com/notebooks/data_table.ipynb>data table notebook</a>'\n",
              "          + ' to learn more about interactive tables.';\n",
              "        element.innerHTML = '';\n",
              "        dataTable['output_type'] = 'display_data';\n",
              "        await google.colab.output.renderOutput(dataTable, element);\n",
              "        const docLink = document.createElement('div');\n",
              "        docLink.innerHTML = docLinkHtml;\n",
              "        element.appendChild(docLink);\n",
              "      }\n",
              "    </script>\n",
              "  </div>\n",
              "\n",
              "\n",
              "<div id=\"df-04c6717c-b9f5-4627-8b67-9953208374d7\">\n",
              "  <button class=\"colab-df-quickchart\" onclick=\"quickchart('df-04c6717c-b9f5-4627-8b67-9953208374d7')\"\n",
              "            title=\"Suggest charts\"\n",
              "            style=\"display:none;\">\n",
              "\n",
              "<svg xmlns=\"http://www.w3.org/2000/svg\" height=\"24px\"viewBox=\"0 0 24 24\"\n",
              "     width=\"24px\">\n",
              "    <g>\n",
              "        <path d=\"M19 3H5c-1.1 0-2 .9-2 2v14c0 1.1.9 2 2 2h14c1.1 0 2-.9 2-2V5c0-1.1-.9-2-2-2zM9 17H7v-7h2v7zm4 0h-2V7h2v10zm4 0h-2v-4h2v4z\"/>\n",
              "    </g>\n",
              "</svg>\n",
              "  </button>\n",
              "\n",
              "<style>\n",
              "  .colab-df-quickchart {\n",
              "      --bg-color: #E8F0FE;\n",
              "      --fill-color: #1967D2;\n",
              "      --hover-bg-color: #E2EBFA;\n",
              "      --hover-fill-color: #174EA6;\n",
              "      --disabled-fill-color: #AAA;\n",
              "      --disabled-bg-color: #DDD;\n",
              "  }\n",
              "\n",
              "  [theme=dark] .colab-df-quickchart {\n",
              "      --bg-color: #3B4455;\n",
              "      --fill-color: #D2E3FC;\n",
              "      --hover-bg-color: #434B5C;\n",
              "      --hover-fill-color: #FFFFFF;\n",
              "      --disabled-bg-color: #3B4455;\n",
              "      --disabled-fill-color: #666;\n",
              "  }\n",
              "\n",
              "  .colab-df-quickchart {\n",
              "    background-color: var(--bg-color);\n",
              "    border: none;\n",
              "    border-radius: 50%;\n",
              "    cursor: pointer;\n",
              "    display: none;\n",
              "    fill: var(--fill-color);\n",
              "    height: 32px;\n",
              "    padding: 0;\n",
              "    width: 32px;\n",
              "  }\n",
              "\n",
              "  .colab-df-quickchart:hover {\n",
              "    background-color: var(--hover-bg-color);\n",
              "    box-shadow: 0 1px 2px rgba(60, 64, 67, 0.3), 0 1px 3px 1px rgba(60, 64, 67, 0.15);\n",
              "    fill: var(--button-hover-fill-color);\n",
              "  }\n",
              "\n",
              "  .colab-df-quickchart-complete:disabled,\n",
              "  .colab-df-quickchart-complete:disabled:hover {\n",
              "    background-color: var(--disabled-bg-color);\n",
              "    fill: var(--disabled-fill-color);\n",
              "    box-shadow: none;\n",
              "  }\n",
              "\n",
              "  .colab-df-spinner {\n",
              "    border: 2px solid var(--fill-color);\n",
              "    border-color: transparent;\n",
              "    border-bottom-color: var(--fill-color);\n",
              "    animation:\n",
              "      spin 1s steps(1) infinite;\n",
              "  }\n",
              "\n",
              "  @keyframes spin {\n",
              "    0% {\n",
              "      border-color: transparent;\n",
              "      border-bottom-color: var(--fill-color);\n",
              "      border-left-color: var(--fill-color);\n",
              "    }\n",
              "    20% {\n",
              "      border-color: transparent;\n",
              "      border-left-color: var(--fill-color);\n",
              "      border-top-color: var(--fill-color);\n",
              "    }\n",
              "    30% {\n",
              "      border-color: transparent;\n",
              "      border-left-color: var(--fill-color);\n",
              "      border-top-color: var(--fill-color);\n",
              "      border-right-color: var(--fill-color);\n",
              "    }\n",
              "    40% {\n",
              "      border-color: transparent;\n",
              "      border-right-color: var(--fill-color);\n",
              "      border-top-color: var(--fill-color);\n",
              "    }\n",
              "    60% {\n",
              "      border-color: transparent;\n",
              "      border-right-color: var(--fill-color);\n",
              "    }\n",
              "    80% {\n",
              "      border-color: transparent;\n",
              "      border-right-color: var(--fill-color);\n",
              "      border-bottom-color: var(--fill-color);\n",
              "    }\n",
              "    90% {\n",
              "      border-color: transparent;\n",
              "      border-bottom-color: var(--fill-color);\n",
              "    }\n",
              "  }\n",
              "</style>\n",
              "\n",
              "  <script>\n",
              "    async function quickchart(key) {\n",
              "      const quickchartButtonEl =\n",
              "        document.querySelector('#' + key + ' button');\n",
              "      quickchartButtonEl.disabled = true;  // To prevent multiple clicks.\n",
              "      quickchartButtonEl.classList.add('colab-df-spinner');\n",
              "      try {\n",
              "        const charts = await google.colab.kernel.invokeFunction(\n",
              "            'suggestCharts', [key], {});\n",
              "      } catch (error) {\n",
              "        console.error('Error during call to suggestCharts:', error);\n",
              "      }\n",
              "      quickchartButtonEl.classList.remove('colab-df-spinner');\n",
              "      quickchartButtonEl.classList.add('colab-df-quickchart-complete');\n",
              "    }\n",
              "    (() => {\n",
              "      let quickchartButtonEl =\n",
              "        document.querySelector('#df-04c6717c-b9f5-4627-8b67-9953208374d7 button');\n",
              "      quickchartButtonEl.style.display =\n",
              "        google.colab.kernel.accessAllowed ? 'block' : 'none';\n",
              "    })();\n",
              "  </script>\n",
              "</div>\n",
              "\n",
              "    </div>\n",
              "  </div>\n"
            ],
            "text/plain": [
              "   customer_id  credit_lines_outstanding  loan_amt_outstanding  \\\n",
              "0      8153374                         0           5221.545193   \n",
              "1      7442532                         5           1958.928726   \n",
              "2      2256073                         0           3363.009259   \n",
              "\n",
              "   total_debt_outstanding       income  years_employed  fico_score  default  \n",
              "0             3915.471226  78039.38546               5         605        0  \n",
              "1             8228.752520  26648.43525               2         572        1  \n",
              "2             2027.830850  65866.71246               4         602        0  "
            ]
          },
          "execution_count": 5,
          "metadata": {},
          "output_type": "execute_result"
        }
      ],
      "source": [
        " # Show some sample of each df\n",
        "df.head(3)"
      ]
    },
    {
      "cell_type": "code",
      "execution_count": 6,
      "id": "3065aaee",
      "metadata": {
        "colab": {
          "base_uri": "https://localhost:8080/"
        },
        "id": "3065aaee",
        "outputId": "a7a2f09e-4fa3-4e69-d67e-5506a31efac4"
      },
      "outputs": [
        {
          "name": "stdout",
          "output_type": "stream",
          "text": [
            "Dataset #1 Info: \n",
            "\n",
            "<class 'pandas.core.frame.DataFrame'>\n",
            "RangeIndex: 10000 entries, 0 to 9999\n",
            "Data columns (total 8 columns):\n",
            " #   Column                    Non-Null Count  Dtype  \n",
            "---  ------                    --------------  -----  \n",
            " 0   customer_id               10000 non-null  int64  \n",
            " 1   credit_lines_outstanding  10000 non-null  int64  \n",
            " 2   loan_amt_outstanding      10000 non-null  float64\n",
            " 3   total_debt_outstanding    10000 non-null  float64\n",
            " 4   income                    10000 non-null  float64\n",
            " 5   years_employed            10000 non-null  int64  \n",
            " 6   fico_score                10000 non-null  int64  \n",
            " 7   default                   10000 non-null  int64  \n",
            "dtypes: float64(3), int64(5)\n",
            "memory usage: 625.1 KB\n",
            "None\n"
          ]
        }
      ],
      "source": [
        "# print info of each df\n",
        "print('Dataset #1 Info: \\n')\n",
        "print(df.info())\n",
        "\n"
      ]
    },
    {
      "cell_type": "code",
      "execution_count": 7,
      "id": "Anq7d8LhVFtQ",
      "metadata": {
        "colab": {
          "base_uri": "https://localhost:8080/",
          "height": 492
        },
        "id": "Anq7d8LhVFtQ",
        "outputId": "71ad2a46-d3aa-43c6-9b42-f58e5f5ed353"
      },
      "outputs": [
        {
          "data": {
            "image/png": "[encoded data removed]",
            "text/plain": [
              "<Figure size 640x480 with 1 Axes>"
            ]
          },
          "metadata": {},
          "output_type": "display_data"
        }
      ],
      "source": [
        "# Compter les occurrences de chaque classe de défaut\n",
        "default_counts = df['default'].value_counts()\n",
        "\n",
        "# Bar plot\n",
        "sns.barplot(x=default_counts.index, y=default_counts.values)\n",
        "plt.title('Distribution de la classe Default')\n",
        "plt.xlabel('Default (0 = Non, 1 = Oui)')\n",
        "plt.ylabel('Nombre de clients')\n",
        "plt.show()\n"
      ]
    },
    {
      "cell_type": "code",
      "execution_count": 8,
      "id": "fS7QwVFaVKSa",
      "metadata": {
        "colab": {
          "base_uri": "https://localhost:8080/",
          "height": 541
        },
        "id": "fS7QwVFaVKSa",
        "outputId": "323292e8-1402-437e-fb6c-0ed4e5330065"
      },
      "outputs": [
        {
          "data": {
            "image/png": "[encoded data removed]",
            "text/plain": [
              "<Figure size 600x600 with 1 Axes>"
            ]
          },
          "metadata": {},
          "output_type": "display_data"
        }
      ],
      "source": [
        "# Pie chart pour la classe default\n",
        "plt.figure(figsize=(6,6))\n",
        "plt.pie(default_counts, labels=['Non-Default', 'Default'], autopct='%1.1f%%', startangle=90, colors=['lightblue', 'lightcoral'])\n",
        "plt.title('Proportion de Default vs Non-Default')\n",
        "plt.show()\n"
      ]
    },
    {
      "cell_type": "code",
      "execution_count": 9,
      "id": "WF8Jp_YpXZiq",
      "metadata": {
        "colab": {
          "base_uri": "https://localhost:8080/"
        },
        "id": "WF8Jp_YpXZiq",
        "outputId": "301fc499-fac6-440f-a330-5d7f9cab448d"
      },
      "outputs": [
        {
          "name": "stdout",
          "output_type": "stream",
          "text": [
            "customer_id                 0\n",
            "credit_lines_outstanding    0\n",
            "loan_amt_outstanding        0\n",
            "total_debt_outstanding      0\n",
            "income                      0\n",
            "years_employed              0\n",
            "fico_score                  0\n",
            "default                     0\n",
            "dtype: int64\n"
          ]
        }
      ],
      "source": [
        "# Calculer le nombre de valeurs nulles par colonne\n",
        "valeurs_nulles = df.isnull().sum()\n",
        "\n",
        "# Afficher le résultat\n",
        "print(valeurs_nulles)\n"
      ]
    },
    {
      "cell_type": "markdown",
      "id": "b552d516",
      "metadata": {
        "id": "b552d516"
      },
      "source": [
        "# 2. Modeling a sentiment classifier\n",
        "- The objective is to\n",
        "    - Load the chosen dataset\n",
        "    -  Selecting main features for modeling sentiment classifier\n",
        "    -  Cleaning Tweet texts\n",
        "    -  Balancing the dataset by sentiment class\n",
        "    -  Split the dataset into train, validation and test subsets\n",
        "    -  Train two sentiment classifiers\n",
        "        - One for base ML method: Logistic Regression\n",
        "        - One for advanced DL method: fine-tuning BERT model\n",
        "    - Inference\n",
        "    - Calculate the metrics\n",
        "    - Comparing the performance of different models\n"
      ]
    },
    {
      "cell_type": "code",
      "execution_count": 10,
      "id": "264d0e63",
      "metadata": {
        "colab": {
          "base_uri": "https://localhost:8080/",
          "height": 198
        },
        "id": "264d0e63",
        "outputId": "6bf5e823-4951-4c6b-a1b7-5f6cc20e174f"
      },
      "outputs": [
        {
          "data": {
            "text/html": [
              "<div>\n",
              "<style scoped>\n",
              "    .dataframe tbody tr th:only-of-type {\n",
              "        vertical-align: middle;\n",
              "    }\n",
              "\n",
              "    .dataframe tbody tr th {\n",
              "        vertical-align: top;\n",
              "    }\n",
              "\n",
              "    .dataframe thead th {\n",
              "        text-align: right;\n",
              "    }\n",
              "</style>\n",
              "<table border=\"1\" class=\"dataframe\">\n",
              "  <thead>\n",
              "    <tr style=\"text-align: right;\">\n",
              "      <th></th>\n",
              "      <th>count</th>\n",
              "    </tr>\n",
              "    <tr>\n",
              "      <th>default</th>\n",
              "      <th></th>\n",
              "    </tr>\n",
              "  </thead>\n",
              "  <tbody>\n",
              "    <tr>\n",
              "      <th>0</th>\n",
              "      <td>8149</td>\n",
              "    </tr>\n",
              "    <tr>\n",
              "      <th>1</th>\n",
              "      <td>1851</td>\n",
              "    </tr>\n",
              "  </tbody>\n",
              "</table>\n",
              "</div><br><label><b>dtype:</b> int64</label>"
            ],
            "text/plain": [
              "default\n",
              "0    8149\n",
              "1    1851\n",
              "Name: count, dtype: int64"
            ]
          },
          "execution_count": 10,
          "metadata": {},
          "output_type": "execute_result"
        }
      ],
      "source": [
        "# Count the sentiment labels by class\n",
        "df['default'].value_counts().sort_values(ascending=False)"
      ]
    },
    {
      "cell_type": "code",
      "execution_count": 11,
      "id": "uPggXlu03zdC",
      "metadata": {
        "id": "uPggXlu03zdC"
      },
      "outputs": [],
      "source": [
        "# Supprimer la colonne customer_id car elle n'est pas pertinente pour la modélisation\n",
        "X = df.drop('customer_id', axis=1)\n",
        "y = df['default']"
      ]
    },
    {
      "cell_type": "code",
      "execution_count": 29,
      "id": "NfyTyWNN3zSb",
      "metadata": {
        "id": "NfyTyWNN3zSb"
      },
      "outputs": [],
      "source": [
        "# Diviser les données en ensembles d'entraînement et de test\n",
        "X_train, X_test, y_train, y_test = train_test_split(X, y, test_size=0.2, random_state=42)\n"
      ]
    },
    {
      "cell_type": "code",
      "execution_count": 30,
      "id": "uDW1VB1e3zPr",
      "metadata": {
        "id": "uDW1VB1e3zPr"
      },
      "outputs": [],
      "source": [
        "# Standardiser les données\n",
        "scaler = StandardScaler()\n",
        "X_train_scaled = scaler.fit_transform(X_train)\n",
        "X_test_scaled = scaler.transform(X_test)"
      ]
    },
    {
      "cell_type": "code",
      "execution_count": 31,
      "id": "s57kRec43zM_",
      "metadata": {
        "colab": {
          "base_uri": "https://localhost:8080/",
          "height": 71
        },
        "id": "s57kRec43zM_",
        "outputId": "239ed22b-ae20-4c54-83f8-98f88ae5c0d9"
      },
      "outputs": [
        {
          "data": {
            "text/html": [
              "<style>#sk-container-id-1 {color: black;}#sk-container-id-1 pre{padding: 0;}#sk-container-id-1 div.sk-toggleable {background-color: white;}#sk-container-id-1 label.sk-toggleable__label {cursor: pointer;display: block;width: 100%;margin-bottom: 0;padding: 0.3em;box-sizing: border-box;text-align: center;}#sk-container-id-1 label.sk-toggleable__label-arrow:before {content: \"▸\";float: left;margin-right: 0.25em;color: #696969;}#sk-container-id-1 label.sk-toggleable__label-arrow:hover:before {color: black;}#sk-container-id-1 div.sk-estimator:hover label.sk-toggleable__label-arrow:before {color: black;}#sk-container-id-1 div.sk-toggleable__content {max-height: 0;max-width: 0;overflow: hidden;text-align: left;background-color: #f0f8ff;}#sk-container-id-1 div.sk-toggleable__content pre {margin: 0.2em;color: black;border-radius: 0.25em;background-color: #f0f8ff;}#sk-container-id-1 input.sk-toggleable__control:checked~div.sk-toggleable__content {max-height: 200px;max-width: 100%;overflow: auto;}#sk-container-id-1 input.sk-toggleable__control:checked~label.sk-toggleable__label-arrow:before {content: \"▾\";}#sk-container-id-1 div.sk-estimator input.sk-toggleable__control:checked~label.sk-toggleable__label {background-color: #d4ebff;}#sk-container-id-1 div.sk-label input.sk-toggleable__control:checked~label.sk-toggleable__label {background-color: #d4ebff;}#sk-container-id-1 input.sk-hidden--visually {border: 0;clip: rect(1px 1px 1px 1px);clip: rect(1px, 1px, 1px, 1px);height: 1px;margin: -1px;overflow: hidden;padding: 0;position: absolute;width: 1px;}#sk-container-id-1 div.sk-estimator {font-family: monospace;background-color: #f0f8ff;border: 1px dotted black;border-radius: 0.25em;box-sizing: border-box;margin-bottom: 0.5em;}#sk-container-id-1 div.sk-estimator:hover {background-color: #d4ebff;}#sk-container-id-1 div.sk-parallel-item::after {content: \"\";width: 100%;border-bottom: 1px solid gray;flex-grow: 1;}#sk-container-id-1 div.sk-label:hover label.sk-toggleable__label {background-color: #d4ebff;}#sk-container-id-1 div.sk-serial::before {content: \"\";position: absolute;border-left: 1px solid gray;box-sizing: border-box;top: 0;bottom: 0;left: 50%;z-index: 0;}#sk-container-id-1 div.sk-serial {display: flex;flex-direction: column;align-items: center;background-color: white;padding-right: 0.2em;padding-left: 0.2em;position: relative;}#sk-container-id-1 div.sk-item {position: relative;z-index: 1;}#sk-container-id-1 div.sk-parallel {display: flex;align-items: stretch;justify-content: center;background-color: white;position: relative;}#sk-container-id-1 div.sk-item::before, #sk-container-id-1 div.sk-parallel-item::before {content: \"\";position: absolute;border-left: 1px solid gray;box-sizing: border-box;top: 0;bottom: 0;left: 50%;z-index: -1;}#sk-container-id-1 div.sk-parallel-item {display: flex;flex-direction: column;z-index: 1;position: relative;background-color: white;}#sk-container-id-1 div.sk-parallel-item:first-child::after {align-self: flex-end;width: 50%;}#sk-container-id-1 div.sk-parallel-item:last-child::after {align-self: flex-start;width: 50%;}#sk-container-id-1 div.sk-parallel-item:only-child::after {width: 0;}#sk-container-id-1 div.sk-dashed-wrapped {border: 1px dashed gray;margin: 0 0.4em 0.5em 0.4em;box-sizing: border-box;padding-bottom: 0.4em;background-color: white;}#sk-container-id-1 div.sk-label label {font-family: monospace;font-weight: bold;display: inline-block;line-height: 1.2em;}#sk-container-id-1 div.sk-label-container {text-align: center;}#sk-container-id-1 div.sk-container {/* jupyter's `normalize.less` sets `[hidden] { display: none; }` but bootstrap.min.css set `[hidden] { display: none !important; }` so we also need the `!important` here to be able to override the default hidden behavior on the sphinx rendered scikit-learn.org. See: https://github.com/scikit-learn/scikit-learn/issues/21755 */display: inline-block !important;position: relative;}#sk-container-id-1 div.sk-text-repr-fallback {display: none;}</style><div id=\"sk-container-id-1\" class=\"sk-top-container\"><div class=\"sk-text-repr-fallback\"><pre>LogisticRegression()</pre><b>In a Jupyter environment, please rerun this cell to show the HTML representation or trust the notebook. <br />On GitHub, the HTML representation is unable to render, please try loading this page with nbviewer.org.</b></div><div class=\"sk-container\" hidden><div class=\"sk-item\"><div class=\"sk-estimator sk-toggleable\"><input class=\"sk-toggleable__control sk-hidden--visually\" id=\"sk-estimator-id-1\" type=\"checkbox\" checked><label for=\"sk-estimator-id-1\" class=\"sk-toggleable__label sk-toggleable__label-arrow\">LogisticRegression</label><div class=\"sk-toggleable__content\"><pre>LogisticRegression()</pre></div></div></div></div></div>"
            ],
            "text/plain": [
              "LogisticRegression()"
            ]
          },
          "execution_count": 31,
          "metadata": {},
          "output_type": "execute_result"
        }
      ],
      "source": [
        "# Étape 3: Model Engineering\n",
        "\n",
        "# 1. Régression Logistique\n",
        "logreg = LogisticRegression()\n",
        "logreg.fit(X_train_scaled, y_train)"
      ]
    },
    {
      "cell_type": "code",
      "execution_count": 32,
      "id": "KCTD7Ve_3zKb",
      "metadata": {
        "colab": {
          "base_uri": "https://localhost:8080/"
        },
        "id": "KCTD7Ve_3zKb",
        "outputId": "36f68ba3-6f06-4e80-9482-a6f937025d96"
      },
      "outputs": [
        {
          "name": "stdout",
          "output_type": "stream",
          "text": [
            "Régression Logistique - Classification Report\n",
            "              precision    recall  f1-score   support\n",
            "\n",
            "           0       1.00      1.00      1.00      1652\n",
            "           1       1.00      1.00      1.00       348\n",
            "\n",
            "    accuracy                           1.00      2000\n",
            "   macro avg       1.00      1.00      1.00      2000\n",
            "weighted avg       1.00      1.00      1.00      2000\n",
            "\n",
            "ROC AUC Score: 1.0\n",
            "Confusion Matrix:\n",
            "[[1652    0]\n",
            " [   0  348]]\n"
          ]
        }
      ],
      "source": [
        "# Prédictions et évaluation\n",
        "y_pred_logreg = logreg.predict(X_test_scaled)\n",
        "print(\"Régression Logistique - Classification Report\")\n",
        "print(classification_report(y_test, y_pred_logreg))\n",
        "print(\"ROC AUC Score:\", roc_auc_score(y_test, logreg.predict_proba(X_test_scaled)[:, 1]))\n",
        "print(\"Confusion Matrix:\")\n",
        "print(confusion_matrix(y_test, y_pred_logreg))\n",
        "\n"
      ]
    },
    {
      "cell_type": "code",
      "execution_count": 33,
      "id": "nsrR_O6h3zHq",
      "metadata": {
        "colab": {
          "base_uri": "https://localhost:8080/",
          "height": 94
        },
        "id": "nsrR_O6h3zHq",
        "outputId": "02c29520-606c-4535-8677-1e98ddbaed95"
      },
      "outputs": [
        {
          "data": {
            "text/html": [
              "<style>#sk-container-id-2 {color: black;}#sk-container-id-2 pre{padding: 0;}#sk-container-id-2 div.sk-toggleable {background-color: white;}#sk-container-id-2 label.sk-toggleable__label {cursor: pointer;display: block;width: 100%;margin-bottom: 0;padding: 0.3em;box-sizing: border-box;text-align: center;}#sk-container-id-2 label.sk-toggleable__label-arrow:before {content: \"▸\";float: left;margin-right: 0.25em;color: #696969;}#sk-container-id-2 label.sk-toggleable__label-arrow:hover:before {color: black;}#sk-container-id-2 div.sk-estimator:hover label.sk-toggleable__label-arrow:before {color: black;}#sk-container-id-2 div.sk-toggleable__content {max-height: 0;max-width: 0;overflow: hidden;text-align: left;background-color: #f0f8ff;}#sk-container-id-2 div.sk-toggleable__content pre {margin: 0.2em;color: black;border-radius: 0.25em;background-color: #f0f8ff;}#sk-container-id-2 input.sk-toggleable__control:checked~div.sk-toggleable__content {max-height: 200px;max-width: 100%;overflow: auto;}#sk-container-id-2 input.sk-toggleable__control:checked~label.sk-toggleable__label-arrow:before {content: \"▾\";}#sk-container-id-2 div.sk-estimator input.sk-toggleable__control:checked~label.sk-toggleable__label {background-color: #d4ebff;}#sk-container-id-2 div.sk-label input.sk-toggleable__control:checked~label.sk-toggleable__label {background-color: #d4ebff;}#sk-container-id-2 input.sk-hidden--visually {border: 0;clip: rect(1px 1px 1px 1px);clip: rect(1px, 1px, 1px, 1px);height: 1px;margin: -1px;overflow: hidden;padding: 0;position: absolute;width: 1px;}#sk-container-id-2 div.sk-estimator {font-family: monospace;background-color: #f0f8ff;border: 1px dotted black;border-radius: 0.25em;box-sizing: border-box;margin-bottom: 0.5em;}#sk-container-id-2 div.sk-estimator:hover {background-color: #d4ebff;}#sk-container-id-2 div.sk-parallel-item::after {content: \"\";width: 100%;border-bottom: 1px solid gray;flex-grow: 1;}#sk-container-id-2 div.sk-label:hover label.sk-toggleable__label {background-color: #d4ebff;}#sk-container-id-2 div.sk-serial::before {content: \"\";position: absolute;border-left: 1px solid gray;box-sizing: border-box;top: 0;bottom: 0;left: 50%;z-index: 0;}#sk-container-id-2 div.sk-serial {display: flex;flex-direction: column;align-items: center;background-color: white;padding-right: 0.2em;padding-left: 0.2em;position: relative;}#sk-container-id-2 div.sk-item {position: relative;z-index: 1;}#sk-container-id-2 div.sk-parallel {display: flex;align-items: stretch;justify-content: center;background-color: white;position: relative;}#sk-container-id-2 div.sk-item::before, #sk-container-id-2 div.sk-parallel-item::before {content: \"\";position: absolute;border-left: 1px solid gray;box-sizing: border-box;top: 0;bottom: 0;left: 50%;z-index: -1;}#sk-container-id-2 div.sk-parallel-item {display: flex;flex-direction: column;z-index: 1;position: relative;background-color: white;}#sk-container-id-2 div.sk-parallel-item:first-child::after {align-self: flex-end;width: 50%;}#sk-container-id-2 div.sk-parallel-item:last-child::after {align-self: flex-start;width: 50%;}#sk-container-id-2 div.sk-parallel-item:only-child::after {width: 0;}#sk-container-id-2 div.sk-dashed-wrapped {border: 1px dashed gray;margin: 0 0.4em 0.5em 0.4em;box-sizing: border-box;padding-bottom: 0.4em;background-color: white;}#sk-container-id-2 div.sk-label label {font-family: monospace;font-weight: bold;display: inline-block;line-height: 1.2em;}#sk-container-id-2 div.sk-label-container {text-align: center;}#sk-container-id-2 div.sk-container {/* jupyter's `normalize.less` sets `[hidden] { display: none; }` but bootstrap.min.css set `[hidden] { display: none !important; }` so we also need the `!important` here to be able to override the default hidden behavior on the sphinx rendered scikit-learn.org. See: https://github.com/scikit-learn/scikit-learn/issues/21755 */display: inline-block !important;position: relative;}#sk-container-id-2 div.sk-text-repr-fallback {display: none;}</style><div id=\"sk-container-id-2\" class=\"sk-top-container\"><div class=\"sk-text-repr-fallback\"><pre>RandomForestClassifier(random_state=42)</pre><b>In a Jupyter environment, please rerun this cell to show the HTML representation or trust the notebook. <br />On GitHub, the HTML representation is unable to render, please try loading this page with nbviewer.org.</b></div><div class=\"sk-container\" hidden><div class=\"sk-item\"><div class=\"sk-estimator sk-toggleable\"><input class=\"sk-toggleable__control sk-hidden--visually\" id=\"sk-estimator-id-2\" type=\"checkbox\" checked><label for=\"sk-estimator-id-2\" class=\"sk-toggleable__label sk-toggleable__label-arrow\">RandomForestClassifier</label><div class=\"sk-toggleable__content\"><pre>RandomForestClassifier(random_state=42)</pre></div></div></div></div></div>"
            ],
            "text/plain": [
              "RandomForestClassifier(random_state=42)"
            ]
          },
          "execution_count": 33,
          "metadata": {},
          "output_type": "execute_result"
        }
      ],
      "source": [
        "# 2. Random Forest\n",
        "rf = RandomForestClassifier(random_state=42)\n",
        "rf.fit(X_train_scaled, y_train)"
      ]
    },
    {
      "cell_type": "code",
      "execution_count": 34,
      "id": "UxtmHzs43zE9",
      "metadata": {
        "colab": {
          "base_uri": "https://localhost:8080/"
        },
        "id": "UxtmHzs43zE9",
        "outputId": "0e54f6c2-5e83-421e-e61f-9021e06d54a7"
      },
      "outputs": [
        {
          "name": "stdout",
          "output_type": "stream",
          "text": [
            "\n",
            "Random Forest - Classification Report\n",
            "              precision    recall  f1-score   support\n",
            "\n",
            "           0       1.00      1.00      1.00      1652\n",
            "           1       1.00      1.00      1.00       348\n",
            "\n",
            "    accuracy                           1.00      2000\n",
            "   macro avg       1.00      1.00      1.00      2000\n",
            "weighted avg       1.00      1.00      1.00      2000\n",
            "\n",
            "ROC AUC Score: 1.0\n"
          ]
        }
      ],
      "source": [
        "# Prédictions et évaluation\n",
        "y_pred_rf = rf.predict(X_test_scaled)\n",
        "print(\"\\nRandom Forest - Classification Report\")\n",
        "print(classification_report(y_test, y_pred_rf))\n",
        "print(\"ROC AUC Score:\", roc_auc_score(y_test, rf.predict_proba(X_test_scaled)[:, 1]))\n"
      ]
    },
    {
      "cell_type": "code",
      "execution_count": null,
      "id": "oNkiWwz13zCF",
      "metadata": {
        "id": "oNkiWwz13zCF"
      },
      "outputs": [],
      "source": []
    },
    {
      "cell_type": "code",
      "execution_count": 39,
      "id": "o-SYoOkv9Yss",
      "metadata": {
        "colab": {
          "base_uri": "https://localhost:8080/"
        },
        "id": "o-SYoOkv9Yss",
        "outputId": "10a68b13-82c5-4f52-a22b-7169de5fabcf"
      },
      "outputs": [
        {
          "name": "stderr",
          "output_type": "stream",
          "text": [
            "2024/09/10 22:04:18 WARNING mlflow.models.model: Model logged without a signature and input example. Please set `input_example` parameter when logging the model to auto infer the model signature.\n",
            "2024/09/10 22:04:25 WARNING mlflow.models.model: Model logged without a signature and input example. Please set `input_example` parameter when logging the model to auto infer the model signature.\n"
          ]
        },
        {
          "name": "stdout",
          "output_type": "stream",
          "text": [
            "\n",
            "Régression Logistique - ROC AUC Score: 1.0\n",
            "\n",
            "Random Forest - ROC AUC Score: 1.0\n"
          ]
        }
      ],
      "source": [
        "with mlflow.start_run():\n",
        "\n",
        "    # Étape 3: Model Engineering\n",
        "\n",
        "    # 1. Régression Logistique\n",
        "    logreg = LogisticRegression()\n",
        "    logreg.fit(X_train_scaled, y_train)\n",
        "\n",
        "    # Prédictions et évaluation\n",
        "    y_pred_logreg = logreg.predict(X_test_scaled)\n",
        "    roc_auc_logreg = roc_auc_score(y_test, logreg.predict_proba(X_test_scaled)[:, 1])\n",
        "\n",
        "    # Enregistrer les métriques avec MLflow\n",
        "    mlflow.log_metric(\"accuracy_logreg\", logreg.score(X_test_scaled, y_test))\n",
        "    mlflow.log_metric(\"roc_auc_logreg\", roc_auc_logreg)\n",
        "\n",
        "    # Enregistrer le modèle de régression logistique\n",
        "    mlflow.sklearn.log_model(logreg, \"logistic_regression_model\")\n",
        "\n",
        "    # 2. Random Forest\n",
        "    rf = RandomForestClassifier(random_state=42)\n",
        "    rf.fit(X_train_scaled, y_train)\n",
        "\n",
        "    # Prédictions et évaluation\n",
        "    y_pred_rf = rf.predict(X_test_scaled)\n",
        "    roc_auc_rf = roc_auc_score(y_test, rf.predict_proba(X_test_scaled)[:, 1])\n",
        "\n",
        "    # Enregistrer les métriques avec MLflow\n",
        "    mlflow.log_metric(\"accuracy_rf\", rf.score(X_test_scaled, y_test))\n",
        "    mlflow.log_metric(\"roc_auc_rf\", roc_auc_rf)\n",
        "\n",
        "    # Enregistrer le modèle Random Forest\n",
        "    mlflow.sklearn.log_model(rf, \"random_forest_model\")\n",
        "\n",
        "    # Capture des métriques pour le rapport\n",
        "    print(\"\\nRégression Logistique - ROC AUC Score:\", roc_auc_logreg)\n",
        "    print(\"\\nRandom Forest - ROC AUC Score:\", roc_auc_rf)\n",
        "\n",
        "# Terminer l'expérience MLflow\n",
        "mlflow.end_run()"
      ]
    },
    {
      "cell_type": "code",
      "execution_count": 38,
      "id": "hDew3yZG9uhr",
      "metadata": {
        "id": "hDew3yZG9uhr"
      },
      "outputs": [],
      "source": []
    },
    {
      "cell_type": "code",
      "execution_count": 36,
      "id": "u4DaM9Xe9Ynj",
      "metadata": {
        "colab": {
          "base_uri": "https://localhost:8080/"
        },
        "id": "u4DaM9Xe9Ynj",
        "outputId": "fc4e6fb3-2f99-4260-a51a-2f1868afc138"
      },
      "outputs": [
        {
          "name": "stdout",
          "output_type": "stream",
          "text": [
            "Collecting mlflow\n",
            "  Downloading mlflow-2.16.0-py3-none-any.whl.metadata (29 kB)\n",
            "Collecting mlflow-skinny==2.16.0 (from mlflow)\n",
            "  Downloading mlflow_skinny-2.16.0-py3-none-any.whl.metadata (30 kB)\n",
            "Requirement already satisfied: Flask<4 in /usr/local/lib/python3.10/dist-packages (from mlflow) (2.2.5)\n",
            "Collecting alembic!=1.10.0,<2 (from mlflow)\n",
            "  Downloading alembic-1.13.2-py3-none-any.whl.metadata (7.4 kB)\n",
            "Collecting docker<8,>=4.0.0 (from mlflow)\n",
            "  Downloading docker-7.1.0-py3-none-any.whl.metadata (3.8 kB)\n",
            "Collecting graphene<4 (from mlflow)\n",
            "  Downloading graphene-3.3-py2.py3-none-any.whl.metadata (7.7 kB)\n",
            "Requirement already satisfied: markdown<4,>=3.3 in /usr/local/lib/python3.10/dist-packages (from mlflow) (3.7)\n",
            "Requirement already satisfied: matplotlib<4 in /usr/local/lib/python3.10/dist-packages (from mlflow) (3.7.1)\n",
            "Requirement already satisfied: numpy<3 in /usr/local/lib/python3.10/dist-packages (from mlflow) (1.26.4)\n",
            "Requirement already satisfied: pandas<3 in /usr/local/lib/python3.10/dist-packages (from mlflow) (2.1.4)\n",
            "Requirement already satisfied: pyarrow<18,>=4.0.0 in /usr/local/lib/python3.10/dist-packages (from mlflow) (14.0.2)\n",
            "Requirement already satisfied: scikit-learn<2 in /usr/local/lib/python3.10/dist-packages (from mlflow) (1.3.2)\n",
            "Requirement already satisfied: scipy<2 in /usr/local/lib/python3.10/dist-packages (from mlflow) (1.13.1)\n",
            "Requirement already satisfied: sqlalchemy<3,>=1.4.0 in /usr/local/lib/python3.10/dist-packages (from mlflow) (2.0.32)\n",
            "Requirement already satisfied: Jinja2<4,>=2.11 in /usr/local/lib/python3.10/dist-packages (from mlflow) (3.1.4)\n",
            "Collecting gunicorn<24 (from mlflow)\n",
            "  Downloading gunicorn-23.0.0-py3-none-any.whl.metadata (4.4 kB)\n",
            "Requirement already satisfied: cachetools<6,>=5.0.0 in /usr/local/lib/python3.10/dist-packages (from mlflow-skinny==2.16.0->mlflow) (5.5.0)\n",
            "Requirement already satisfied: click<9,>=7.0 in /usr/local/lib/python3.10/dist-packages (from mlflow-skinny==2.16.0->mlflow) (8.1.7)\n",
            "Requirement already satisfied: cloudpickle<4 in /usr/local/lib/python3.10/dist-packages (from mlflow-skinny==2.16.0->mlflow) (2.2.1)\n",
            "Collecting databricks-sdk<1,>=0.20.0 (from mlflow-skinny==2.16.0->mlflow)\n",
            "  Downloading databricks_sdk-0.32.1-py3-none-any.whl.metadata (37 kB)\n",
            "Collecting gitpython<4,>=3.1.9 (from mlflow-skinny==2.16.0->mlflow)\n",
            "  Downloading GitPython-3.1.43-py3-none-any.whl.metadata (13 kB)\n",
            "Requirement already satisfied: importlib-metadata!=4.7.0,<9,>=3.7.0 in /usr/local/lib/python3.10/dist-packages (from mlflow-skinny==2.16.0->mlflow) (8.4.0)\n",
            "Collecting opentelemetry-api<3,>=1.9.0 (from mlflow-skinny==2.16.0->mlflow)\n",
            "  Downloading opentelemetry_api-1.27.0-py3-none-any.whl.metadata (1.4 kB)\n",
            "Collecting opentelemetry-sdk<3,>=1.9.0 (from mlflow-skinny==2.16.0->mlflow)\n",
            "  Downloading opentelemetry_sdk-1.27.0-py3-none-any.whl.metadata (1.5 kB)\n",
            "Requirement already satisfied: packaging<25 in /usr/local/lib/python3.10/dist-packages (from mlflow-skinny==2.16.0->mlflow) (24.1)\n",
            "Requirement already satisfied: protobuf<6,>=3.12.0 in /usr/local/lib/python3.10/dist-packages (from mlflow-skinny==2.16.0->mlflow) (3.20.3)\n",
            "Requirement already satisfied: pyyaml<7,>=5.1 in /usr/local/lib/python3.10/dist-packages (from mlflow-skinny==2.16.0->mlflow) (6.0.2)\n",
            "Requirement already satisfied: requests<3,>=2.17.3 in /usr/local/lib/python3.10/dist-packages (from mlflow-skinny==2.16.0->mlflow) (2.32.3)\n",
            "Requirement already satisfied: sqlparse<1,>=0.4.0 in /usr/local/lib/python3.10/dist-packages (from mlflow-skinny==2.16.0->mlflow) (0.5.1)\n",
            "Collecting Mako (from alembic!=1.10.0,<2->mlflow)\n",
            "  Downloading Mako-1.3.5-py3-none-any.whl.metadata (2.9 kB)\n",
            "Requirement already satisfied: typing-extensions>=4 in /usr/local/lib/python3.10/dist-packages (from alembic!=1.10.0,<2->mlflow) (4.12.2)\n",
            "Requirement already satisfied: urllib3>=1.26.0 in /usr/local/lib/python3.10/dist-packages (from docker<8,>=4.0.0->mlflow) (2.0.7)\n",
            "Requirement already satisfied: Werkzeug>=2.2.2 in /usr/local/lib/python3.10/dist-packages (from Flask<4->mlflow) (3.0.4)\n",
            "Requirement already satisfied: itsdangerous>=2.0 in /usr/local/lib/python3.10/dist-packages (from Flask<4->mlflow) (2.2.0)\n",
            "Collecting graphql-core<3.3,>=3.1 (from graphene<4->mlflow)\n",
            "  Downloading graphql_core-3.2.4-py3-none-any.whl.metadata (10 kB)\n",
            "Collecting graphql-relay<3.3,>=3.1 (from graphene<4->mlflow)\n",
            "  Downloading graphql_relay-3.2.0-py3-none-any.whl.metadata (12 kB)\n",
            "Collecting aniso8601<10,>=8 (from graphene<4->mlflow)\n",
            "  Downloading aniso8601-9.0.1-py2.py3-none-any.whl.metadata (23 kB)\n",
            "Requirement already satisfied: MarkupSafe>=2.0 in /usr/local/lib/python3.10/dist-packages (from Jinja2<4,>=2.11->mlflow) (2.1.5)\n",
            "Requirement already satisfied: contourpy>=1.0.1 in /usr/local/lib/python3.10/dist-packages (from matplotlib<4->mlflow) (1.3.0)\n",
            "Requirement already satisfied: cycler>=0.10 in /usr/local/lib/python3.10/dist-packages (from matplotlib<4->mlflow) (0.12.1)\n",
            "Requirement already satisfied: fonttools>=4.22.0 in /usr/local/lib/python3.10/dist-packages (from matplotlib<4->mlflow) (4.53.1)\n",
            "Requirement already satisfied: kiwisolver>=1.0.1 in /usr/local/lib/python3.10/dist-packages (from matplotlib<4->mlflow) (1.4.5)\n",
            "Requirement already satisfied: pillow>=6.2.0 in /usr/local/lib/python3.10/dist-packages (from matplotlib<4->mlflow) (9.4.0)\n",
            "Requirement already satisfied: pyparsing>=2.3.1 in /usr/local/lib/python3.10/dist-packages (from matplotlib<4->mlflow) (3.1.4)\n",
            "Requirement already satisfied: python-dateutil>=2.7 in /usr/local/lib/python3.10/dist-packages (from matplotlib<4->mlflow) (2.8.2)\n",
            "Requirement already satisfied: pytz>=2020.1 in /usr/local/lib/python3.10/dist-packages (from pandas<3->mlflow) (2024.1)\n",
            "Requirement already satisfied: tzdata>=2022.1 in /usr/local/lib/python3.10/dist-packages (from pandas<3->mlflow) (2024.1)\n",
            "Requirement already satisfied: joblib>=1.1.1 in /usr/local/lib/python3.10/dist-packages (from scikit-learn<2->mlflow) (1.4.2)\n",
            "Requirement already satisfied: threadpoolctl>=2.0.0 in /usr/local/lib/python3.10/dist-packages (from scikit-learn<2->mlflow) (3.5.0)\n",
            "Requirement already satisfied: greenlet!=0.4.17 in /usr/local/lib/python3.10/dist-packages (from sqlalchemy<3,>=1.4.0->mlflow) (3.0.3)\n",
            "Requirement already satisfied: google-auth~=2.0 in /usr/local/lib/python3.10/dist-packages (from databricks-sdk<1,>=0.20.0->mlflow-skinny==2.16.0->mlflow) (2.27.0)\n",
            "Collecting gitdb<5,>=4.0.1 (from gitpython<4,>=3.1.9->mlflow-skinny==2.16.0->mlflow)\n",
            "  Downloading gitdb-4.0.11-py3-none-any.whl.metadata (1.2 kB)\n",
            "Requirement already satisfied: zipp>=0.5 in /usr/local/lib/python3.10/dist-packages (from importlib-metadata!=4.7.0,<9,>=3.7.0->mlflow-skinny==2.16.0->mlflow) (3.20.1)\n",
            "Collecting deprecated>=1.2.6 (from opentelemetry-api<3,>=1.9.0->mlflow-skinny==2.16.0->mlflow)\n",
            "  Downloading Deprecated-1.2.14-py2.py3-none-any.whl.metadata (5.4 kB)\n",
            "Collecting opentelemetry-semantic-conventions==0.48b0 (from opentelemetry-sdk<3,>=1.9.0->mlflow-skinny==2.16.0->mlflow)\n",
            "  Downloading opentelemetry_semantic_conventions-0.48b0-py3-none-any.whl.metadata (2.4 kB)\n",
            "Requirement already satisfied: six>=1.5 in /usr/local/lib/python3.10/dist-packages (from python-dateutil>=2.7->matplotlib<4->mlflow) (1.16.0)\n",
            "Requirement already satisfied: charset-normalizer<4,>=2 in /usr/local/lib/python3.10/dist-packages (from requests<3,>=2.17.3->mlflow-skinny==2.16.0->mlflow) (3.3.2)\n",
            "Requirement already satisfied: idna<4,>=2.5 in /usr/local/lib/python3.10/dist-packages (from requests<3,>=2.17.3->mlflow-skinny==2.16.0->mlflow) (3.8)\n",
            "Requirement already satisfied: certifi>=2017.4.17 in /usr/local/lib/python3.10/dist-packages (from requests<3,>=2.17.3->mlflow-skinny==2.16.0->mlflow) (2024.8.30)\n",
            "Requirement already satisfied: wrapt<2,>=1.10 in /usr/local/lib/python3.10/dist-packages (from deprecated>=1.2.6->opentelemetry-api<3,>=1.9.0->mlflow-skinny==2.16.0->mlflow) (1.16.0)\n",
            "Collecting smmap<6,>=3.0.1 (from gitdb<5,>=4.0.1->gitpython<4,>=3.1.9->mlflow-skinny==2.16.0->mlflow)\n",
            "  Downloading smmap-5.0.1-py3-none-any.whl.metadata (4.3 kB)\n",
            "Requirement already satisfied: pyasn1-modules>=0.2.1 in /usr/local/lib/python3.10/dist-packages (from google-auth~=2.0->databricks-sdk<1,>=0.20.0->mlflow-skinny==2.16.0->mlflow) (0.4.0)\n",
            "Requirement already satisfied: rsa<5,>=3.1.4 in /usr/local/lib/python3.10/dist-packages (from google-auth~=2.0->databricks-sdk<1,>=0.20.0->mlflow-skinny==2.16.0->mlflow) (4.9)\n",
            "Requirement already satisfied: pyasn1<0.7.0,>=0.4.6 in /usr/local/lib/python3.10/dist-packages (from pyasn1-modules>=0.2.1->google-auth~=2.0->databricks-sdk<1,>=0.20.0->mlflow-skinny==2.16.0->mlflow) (0.6.0)\n",
            "Downloading mlflow-2.16.0-py3-none-any.whl (26.6 MB)\n",
            "\u001b[2K   \u001b[90m━━━━━━━━━━━━━━━━━━━━━━━━━━━━━━━━━━━━━━━━\u001b[0m \u001b[32m26.6/26.6 MB\u001b[0m \u001b[31m19.9 MB/s\u001b[0m eta \u001b[36m0:00:00\u001b[0m\n",
            "\u001b[?25hDownloading mlflow_skinny-2.16.0-py3-none-any.whl (5.6 MB)\n",
            "\u001b[2K   \u001b[90m━━━━━━━━━━━━━━━━━━━━━━━━━━━━━━━━━━━━━━━━\u001b[0m \u001b[32m5.6/5.6 MB\u001b[0m \u001b[31m37.5 MB/s\u001b[0m eta \u001b[36m0:00:00\u001b[0m\n",
            "\u001b[?25hDownloading alembic-1.13.2-py3-none-any.whl (232 kB)\n",
            "\u001b[2K   \u001b[90m━━━━━━━━━━━━━━━━━━━━━━━━━━━━━━━━━━━━━━━━\u001b[0m \u001b[32m233.0/233.0 kB\u001b[0m \u001b[31m9.0 MB/s\u001b[0m eta \u001b[36m0:00:00\u001b[0m\n",
            "\u001b[?25hDownloading docker-7.1.0-py3-none-any.whl (147 kB)\n",
            "\u001b[2K   \u001b[90m━━━━━━━━━━━━━━━━━━━━━━━━━━━━━━━━━━━━━━━━\u001b[0m \u001b[32m147.8/147.8 kB\u001b[0m \u001b[31m7.8 MB/s\u001b[0m eta \u001b[36m0:00:00\u001b[0m\n",
            "\u001b[?25hDownloading graphene-3.3-py2.py3-none-any.whl (128 kB)\n",
            "\u001b[2K   \u001b[90m━━━━━━━━━━━━━━━━━━━━━━━━━━━━━━━━━━━━━━━━\u001b[0m \u001b[32m128.2/128.2 kB\u001b[0m \u001b[31m7.0 MB/s\u001b[0m eta \u001b[36m0:00:00\u001b[0m\n",
            "\u001b[?25hDownloading gunicorn-23.0.0-py3-none-any.whl (85 kB)\n",
            "\u001b[2K   \u001b[90m━━━━━━━━━━━━━━━━━━━━━━━━━━━━━━━━━━━━━━━━\u001b[0m \u001b[32m85.0/85.0 kB\u001b[0m \u001b[31m6.6 MB/s\u001b[0m eta \u001b[36m0:00:00\u001b[0m\n",
            "\u001b[?25hDownloading aniso8601-9.0.1-py2.py3-none-any.whl (52 kB)\n",
            "\u001b[2K   \u001b[90m━━━━━━━━━━━━━━━━━━━━━━━━━━━━━━━━━━━━━━━━\u001b[0m \u001b[32m52.8/52.8 kB\u001b[0m \u001b[31m3.0 MB/s\u001b[0m eta \u001b[36m0:00:00\u001b[0m\n",
            "\u001b[?25hDownloading databricks_sdk-0.32.1-py3-none-any.whl (551 kB)\n",
            "\u001b[2K   \u001b[90m━━━━━━━━━━━━━━━━━━━━━━━━━━━━━━━━━━━━━━━━\u001b[0m \u001b[32m552.0/552.0 kB\u001b[0m \u001b[31m24.4 MB/s\u001b[0m eta \u001b[36m0:00:00\u001b[0m\n",
            "\u001b[?25hDownloading GitPython-3.1.43-py3-none-any.whl (207 kB)\n",
            "\u001b[2K   \u001b[90m━━━━━━━━━━━━━━━━━━━━━━━━━━━━━━━━━━━━━━━━\u001b[0m \u001b[32m207.3/207.3 kB\u001b[0m \u001b[31m12.3 MB/s\u001b[0m eta \u001b[36m0:00:00\u001b[0m\n",
            "\u001b[?25hDownloading graphql_core-3.2.4-py3-none-any.whl (203 kB)\n",
            "\u001b[2K   \u001b[90m━━━━━━━━━━━━━━━━━━━━━━━━━━━━━━━━━━━━━━━━\u001b[0m \u001b[32m203.2/203.2 kB\u001b[0m \u001b[31m11.8 MB/s\u001b[0m eta \u001b[36m0:00:00\u001b[0m\n",
            "\u001b[?25hDownloading graphql_relay-3.2.0-py3-none-any.whl (16 kB)\n",
            "Downloading opentelemetry_api-1.27.0-py3-none-any.whl (63 kB)\n",
            "\u001b[2K   \u001b[90m━━━━━━━━━━━━━━━━━━━━━━━━━━━━━━━━━━━━━━━━\u001b[0m \u001b[32m64.0/64.0 kB\u001b[0m \u001b[31m4.6 MB/s\u001b[0m eta \u001b[36m0:00:00\u001b[0m\n",
            "\u001b[?25hDownloading opentelemetry_sdk-1.27.0-py3-none-any.whl (110 kB)\n",
            "\u001b[2K   \u001b[90m━━━━━━━━━━━━━━━━━━━━━━━━━━━━━━━━━━━━━━━━\u001b[0m \u001b[32m110.5/110.5 kB\u001b[0m \u001b[31m6.3 MB/s\u001b[0m eta \u001b[36m0:00:00\u001b[0m\n",
            "\u001b[?25hDownloading opentelemetry_semantic_conventions-0.48b0-py3-none-any.whl (149 kB)\n",
            "\u001b[2K   \u001b[90m━━━━━━━━━━━━━━━━━━━━━━━━━━━━━━━━━━━━━━━━\u001b[0m \u001b[32m149.7/149.7 kB\u001b[0m \u001b[31m5.8 MB/s\u001b[0m eta \u001b[36m0:00:00\u001b[0m\n",
            "\u001b[?25hDownloading Mako-1.3.5-py3-none-any.whl (78 kB)\n",
            "\u001b[2K   \u001b[90m━━━━━━━━━━━━━━━━━━━━━━━━━━━━━━━━━━━━━━━━\u001b[0m \u001b[32m78.6/78.6 kB\u001b[0m \u001b[31m4.0 MB/s\u001b[0m eta \u001b[36m0:00:00\u001b[0m\n",
            "\u001b[?25hDownloading Deprecated-1.2.14-py2.py3-none-any.whl (9.6 kB)\n",
            "Downloading gitdb-4.0.11-py3-none-any.whl (62 kB)\n",
            "\u001b[2K   \u001b[90m━━━━━━━━━━━━━━━━━━━━━━━━━━━━━━━━━━━━━━━━\u001b[0m \u001b[32m62.7/62.7 kB\u001b[0m \u001b[31m3.7 MB/s\u001b[0m eta \u001b[36m0:00:00\u001b[0m\n",
            "\u001b[?25hDownloading smmap-5.0.1-py3-none-any.whl (24 kB)\n",
            "Installing collected packages: aniso8601, smmap, Mako, gunicorn, graphql-core, deprecated, opentelemetry-api, graphql-relay, gitdb, docker, alembic, opentelemetry-semantic-conventions, graphene, gitpython, databricks-sdk, opentelemetry-sdk, mlflow-skinny, mlflow\n",
            "Successfully installed Mako-1.3.5 alembic-1.13.2 aniso8601-9.0.1 databricks-sdk-0.32.1 deprecated-1.2.14 docker-7.1.0 gitdb-4.0.11 gitpython-3.1.43 graphene-3.3 graphql-core-3.2.4 graphql-relay-3.2.0 gunicorn-23.0.0 mlflow-2.16.0 mlflow-skinny-2.16.0 opentelemetry-api-1.27.0 opentelemetry-sdk-1.27.0 opentelemetry-semantic-conventions-0.48b0 smmap-5.0.1\n"
          ]
        }
      ],
      "source": [
        "!pip install mlflow\n"
      ]
    },
    {
      "cell_type": "code",
      "execution_count": null,
      "id": "WA3YeXWc9Ykz",
      "metadata": {
        "id": "WA3YeXWc9Ykz"
      },
      "outputs": [],
      "source": []
    },
    {
      "cell_type": "code",
      "execution_count": null,
      "id": "64e9cb52",
      "metadata": {
        "id": "64e9cb52",
        "outputId": "cf795bf7-68a2-479d-bd17-9077774cd8b2"
      },
      "outputs": [
        {
          "name": "stderr",
          "output_type": "stream",
          "text": [
            "C:\\Users\\easyb\\AppData\\Local\\Temp\\ipykernel_16828\\1679151588.py:19: SettingWithCopyWarning: \n",
            "A value is trying to be set on a copy of a slice from a DataFrame.\n",
            "Try using .loc[row_indexer,col_indexer] = value instead\n",
            "\n",
            "See the caveats in the documentation: https://pandas.pydata.org/pandas-docs/stable/user_guide/indexing.html#returning-a-view-versus-a-copy\n",
            "  df['cleaned_text'] = df['text'].apply(clean_tweet)\n"
          ]
        },
        {
          "data": {
            "text/html": [
              "<div>\n",
              "<style scoped>\n",
              "    .dataframe tbody tr th:only-of-type {\n",
              "        vertical-align: middle;\n",
              "    }\n",
              "\n",
              "    .dataframe tbody tr th {\n",
              "        vertical-align: top;\n",
              "    }\n",
              "\n",
              "    .dataframe thead th {\n",
              "        text-align: right;\n",
              "    }\n",
              "</style>\n",
              "<table border=\"1\" class=\"dataframe\">\n",
              "  <thead>\n",
              "    <tr style=\"text-align: right;\">\n",
              "      <th></th>\n",
              "      <th>text</th>\n",
              "      <th>cleaned_text</th>\n",
              "    </tr>\n",
              "  </thead>\n",
              "  <tbody>\n",
              "    <tr>\n",
              "      <th>0</th>\n",
              "      <td>@VirginAmerica What @dhepburn said.</td>\n",
              "      <td>What  said.</td>\n",
              "    </tr>\n",
              "    <tr>\n",
              "      <th>1</th>\n",
              "      <td>@VirginAmerica plus you've added commercials t...</td>\n",
              "      <td>plus you've added commercials to the experien...</td>\n",
              "    </tr>\n",
              "    <tr>\n",
              "      <th>2</th>\n",
              "      <td>@VirginAmerica I didn't today... Must mean I n...</td>\n",
              "      <td>I didn't today... Must mean I need to take an...</td>\n",
              "    </tr>\n",
              "    <tr>\n",
              "      <th>3</th>\n",
              "      <td>@VirginAmerica it's really aggressive to blast...</td>\n",
              "      <td>it's really aggressive to blast obnoxious \"en...</td>\n",
              "    </tr>\n",
              "    <tr>\n",
              "      <th>4</th>\n",
              "      <td>@VirginAmerica and it's a really big bad thing...</td>\n",
              "      <td>and it's a really big bad thing about it</td>\n",
              "    </tr>\n",
              "  </tbody>\n",
              "</table>\n",
              "</div>"
            ],
            "text/plain": [
              "                                                text  \\\n",
              "0                @VirginAmerica What @dhepburn said.   \n",
              "1  @VirginAmerica plus you've added commercials t...   \n",
              "2  @VirginAmerica I didn't today... Must mean I n...   \n",
              "3  @VirginAmerica it's really aggressive to blast...   \n",
              "4  @VirginAmerica and it's a really big bad thing...   \n",
              "\n",
              "                                        cleaned_text  \n",
              "0                                        What  said.  \n",
              "1   plus you've added commercials to the experien...  \n",
              "2   I didn't today... Must mean I need to take an...  \n",
              "3   it's really aggressive to blast obnoxious \"en...  \n",
              "4           and it's a really big bad thing about it  "
            ]
          },
          "execution_count": 24,
          "metadata": {},
          "output_type": "execute_result"
        }
      ],
      "source": [
        "import re\n",
        "import emoji\n",
        "\n",
        "# Function to remove hyperlinks, emojis, hashtags, mentions, emoticons, and HTML entities\n",
        "def clean_tweet(text):\n",
        "    # Remove hyperlinks\n",
        "    text = re.sub(r'http\\S+', '', text)\n",
        "    # Remove emojis\n",
        "    text = emoji.replace_emoji(text, replace='')\n",
        "    # Remove mentions and hashtags\n",
        "    text = re.sub(r'[@#]\\w+', '', text)\n",
        "    # Remove emoticons\n",
        "    text = re.sub(r'[:;=8][\\-o\\*\\']?[\\)\\]\\(\\[dDpP/\\:\\}\\{@\\|\\\\]', '', text)\n",
        "    # Remove HTML entities\n",
        "    text = re.sub(r'&\\w+;', '', text)\n",
        "    return text\n",
        "\n",
        "# Apply the function to the tweet column\n",
        "df['cleaned_text'] = df['text'].apply(clean_tweet)\n",
        "\n",
        "# Display the DataFrame\n",
        "df[['text', 'cleaned_text']].head()"
      ]
    },
    {
      "cell_type": "code",
      "execution_count": null,
      "id": "5a4840d9",
      "metadata": {
        "id": "5a4840d9",
        "outputId": "4ed7b865-78e6-4a52-d24e-795c596ddbf7"
      },
      "outputs": [
        {
          "name": "stdout",
          "output_type": "stream",
          "text": [
            " What  said.\n",
            " plus you've added commercials to the experience... tacky.\n",
            " I didn't today... Must mean I need to take another trip!\n",
            " it's really aggressive to blast obnoxious \"entertainment\" in your guests' faces  they have little recourse\n",
            " and it's a really big bad thing about it\n",
            " seriously would pay $30 a flight for seats that didn't have this playing.\n",
            "it's really the only bad thing about flying VA\n",
            " yes, nearly every time I fly VX this “ear worm” won’t go away \n",
            " Really missed a prime opportunity for Men Without Hats parody, there. \n",
            " Well, I didn't…but NOW I DO! \n",
            " it was amazing, and arrived an hour early. You're too good to me.\n",
            " did you know that suicide is the second leading cause of death among teens 10-24\n",
            " I 3 pretty graphics. so much better than minimal iconography. \n",
            " This is such a great deal! Already thinking about my 2nd trip to   I haven't even gone on my 1st trip yet! \n",
            "  I'm flying your   skies again! U take all the  away from travel \n",
            " Thanks!\n",
            " SFO-PDX schedule is still MIA.\n",
            " So excited for my first cross country flight LAX to MCO I've heard nothing but great things about Virgin America. \n",
            "  I flew from NYC to SFO last week and couldn't fully sit in my seat due to two large gentleman on either side of me. HELP!\n",
            "I  flying . \n",
            " you know what would be amazingly awesome? BOS-FLL PLEASE!!!!!!! I want to fly with only you.\n",
            " why are your first fares in May over three times more than other carriers when all seats are available to select???\n",
            " I love this graphic. \n",
            " I love the hipster innovation. You are a feel good brand.\n",
            " will you be making BOSLAS non stop permanently anytime soon?\n",
            " you guys messed up my seating.. I reserved seating with my friends and you guys gave my seat away ...  I want free internet\n",
            " status match program.  I applied and it's been three weeks.  Called and emailed with no response.\n",
            " What happened 2 ur vegan food options?! At least say on ur site so i know I won't be able 2 eat anything for next 6 hrs \n",
            " do you miss me? Don't worry we'll be together very soon.\n",
            " amazing to me that we can't get any cold air from the vents.     \n",
            " LAX to EWR - Middle seat on a red eye. Such a noob maneuver.  \n",
            " hi! I just bked a cool birthday trip with you, but i can't add my elevate no. cause i entered my middle name during Flight Booking Problems \n",
            " Are the hours of operation for the Club at SFO that are posted online current?\n",
            " help, left expensive headphones on flight 89 IAD to LAX today. Seat 2A. No one answering LF number at LAX!\n",
            " awaiting my return phone call, just would prefer to use your online self-service option \n",
            " this is great news!  America could start flights to Hawaii by end of year  via \n",
            "Nice RT : Vibe with the moodlight from takeoff to touchdown.   \n",
            " Moodlighting is the only way to fly! Best experience EVER! Cool and calming.  \n",
            "  Done and done! Best airline around, hands down!\n",
            " when can I book my flight to Hawaii??\n",
            " Your chat support is not working on your site: \n",
            " View of downtown Los Angeles, the Hollywood Sign, and beyond that rain in the mountains! \n",
            " Hey, first time flyer next week - excited! But I'm having a hard time getting my flights added to my Elevate account. Help?\n",
            " plz help me win my bid upgrade for my flight 2/27 LAX---SEA!!!  \n",
            " I have an unused ticket but moved to a new city where you don't fly. How can I fly with you before it expires? \n",
            " are flights leaving Dallas for Seattle on time Feb 24?\n",
            " I'm  for a good reason: you rock!!\n",
            "  DREAM  \n",
            " wow this just blew my mind\n",
            "   After last night    ! I think  agree\n",
            "   All were entertaining\n"
          ]
        }
      ],
      "source": [
        "# Recheck the cleaned text\n",
        "for t in df[\"cleaned_text\"][0:50]:\n",
        "    print(t)"
      ]
    },
    {
      "cell_type": "markdown",
      "id": "de7024fa",
      "metadata": {
        "id": "de7024fa"
      },
      "source": [
        "- **Remarks**: It can be seen that the new feature 'cleaned_text' has sufficient clean texts for the modeling step."
      ]
    },
    {
      "cell_type": "markdown",
      "id": "f3d14d66",
      "metadata": {
        "id": "f3d14d66"
      },
      "source": [
        "## Create balanced dataset for modeling\n",
        "- *Remind that* the raw dataset has\n",
        "    - negative:    9178 samples\n",
        "    - neutral:     3099 samples\n",
        "    - positive:    2363 samples\n",
        "- In this project, I choose downsampling approach to obtain the balanced dataset by choosing the cut-off sampling as the minimum class size (meaning 2363 of positive class). This way, we still has reasonable number of sampling for modeling with machine learning and deep learning approaches."
      ]
    },
    {
      "cell_type": "code",
      "execution_count": null,
      "id": "e7e33f1c",
      "metadata": {
        "id": "e7e33f1c"
      },
      "outputs": [],
      "source": [
        "# Separate the dataset by sentiment\n",
        "negative = df[df['airline_sentiment'] == 'negative']\n",
        "neutral = df[df['airline_sentiment'] == 'neutral']\n",
        "positive = df[df['airline_sentiment'] == 'positive']\n",
        "\n",
        "# Determine the minimum class size\n",
        "min_size = min(len(negative), len(neutral), len(positive))\n",
        "\n",
        "# Balance the dataset by undersampling\n",
        "negative_balanced = negative.sample(min_size, random_state=42)\n",
        "neutral_balanced = neutral.sample(min_size, random_state=42)\n",
        "positive_balanced = positive.sample(min_size, random_state=42)\n",
        "\n",
        "# Combine the balanced datasets\n",
        "balanced_df = pd.concat([negative_balanced, neutral_balanced, positive_balanced])\n",
        "\n",
        "# Shuffle the balanced dataset\n",
        "balanced_df = balanced_df.sample(frac=1, random_state=42).reset_index(drop=True)"
      ]
    },
    {
      "cell_type": "code",
      "execution_count": null,
      "id": "97fa1caf",
      "metadata": {
        "id": "97fa1caf",
        "outputId": "59128043-7223-4697-c0d6-4a127a250e6b"
      },
      "outputs": [
        {
          "data": {
            "text/plain": [
              "airline_sentiment\n",
              "neutral     2363\n",
              "positive    2363\n",
              "negative    2363\n",
              "Name: count, dtype: int64"
            ]
          },
          "execution_count": 27,
          "metadata": {},
          "output_type": "execute_result"
        }
      ],
      "source": [
        "# Let's recheck whether the new dataframe is really balanced\n",
        "balanced_df['airline_sentiment'].value_counts().sort_values(ascending=False)"
      ]
    },
    {
      "cell_type": "markdown",
      "id": "f0a4c8ff",
      "metadata": {
        "id": "f0a4c8ff"
      },
      "source": [
        "- **Remarks**: Well, we really obtained a new balance dataset for the modeling step"
      ]
    },
    {
      "cell_type": "markdown",
      "id": "a1aa79ec",
      "metadata": {
        "id": "a1aa79ec"
      },
      "source": [
        "## Split dataset into Train, Validation and Test subsets\n",
        "- This step is important in modeling\n",
        "    - For Training: we will use Train subset (and Validation subset if applicable)\n",
        "    - For Testing: we will use Test subset\n",
        "- We will use 'stratify=balanced_df['airline_sentiment']' to make sure that all the subsets are sampled equally regarding the sentiment classes\n",
        "- At the end, we will save all subsets into new csv file for later use"
      ]
    },
    {
      "cell_type": "code",
      "execution_count": null,
      "id": "bf3c1943",
      "metadata": {
        "id": "bf3c1943",
        "outputId": "7ac78623-a752-4a58-9e38-fccd10e8ae8c"
      },
      "outputs": [
        {
          "name": "stdout",
          "output_type": "stream",
          "text": [
            "Train set size: 4962\n",
            "Validation set size: 1063\n",
            "Test set size: 1064\n"
          ]
        }
      ],
      "source": [
        "from sklearn.model_selection import train_test_split\n",
        "\n",
        "# Split the dataset into train, validation, and test sets\n",
        "train_df, temp_df = train_test_split(balanced_df, test_size=0.3, random_state=42, stratify=balanced_df['airline_sentiment'])\n",
        "val_df, test_df = train_test_split(temp_df, test_size=0.5, random_state=42, stratify=temp_df['airline_sentiment'])\n",
        "\n",
        "# Print the sizes of the datasets\n",
        "print(f\"Train set size: {len(train_df)}\")\n",
        "print(f\"Validation set size: {len(val_df)}\")\n",
        "print(f\"Test set size: {len(test_df)}\")\n",
        "\n",
        "# Save the datasets to CSV files\n",
        "train_df.to_csv('./data/sentiment_airline_on_tweets/train_airline_sentiment_dataset.csv', index=False)\n",
        "val_df.to_csv('./data/sentiment_airline_on_tweets/val_airline_sentiment_dataset.csv', index=False)\n",
        "test_df.to_csv('./data/sentiment_airline_on_tweets/test_airline_sentiment_dataset.csv', index=False)"
      ]
    },
    {
      "cell_type": "markdown",
      "id": "d5500dfc",
      "metadata": {
        "id": "d5500dfc"
      },
      "source": [
        "## Modeling\n",
        "In this stage, I will implement two ML methods to modeling the sentiment classifier\n",
        "- One is more classic: Logistic Regression\n",
        "- Other is more advanced: Fine-tune Bert model"
      ]
    },
    {
      "cell_type": "markdown",
      "id": "5ce52417",
      "metadata": {
        "id": "5ce52417"
      },
      "source": [
        "### ML #1 Logistic Regression"
      ]
    },
    {
      "cell_type": "code",
      "execution_count": null,
      "id": "dd00382f",
      "metadata": {
        "id": "dd00382f",
        "outputId": "3d6859ff-d10d-44c7-9477-b05867efa431"
      },
      "outputs": [
        {
          "name": "stdout",
          "output_type": "stream",
          "text": [
            "Logistic Regression - Accuracy: 0.75, Precision: 0.7534922123623737, F1 Score: 0.7507287426614965\n"
          ]
        }
      ],
      "source": [
        "import pandas as pd\n",
        "from sklearn.feature_extraction.text import TfidfVectorizer\n",
        "from sklearn.linear_model import LogisticRegression\n",
        "from sklearn.metrics import accuracy_score, precision_score, f1_score\n",
        "\n",
        "# Vectorize the text data\n",
        "vectorizer = TfidfVectorizer()\n",
        "X_train_tfidf = vectorizer.fit_transform(train_df['text'])\n",
        "X_val_tfidf = vectorizer.transform(val_df['text'])\n",
        "X_test_tfidf = vectorizer.transform(test_df['text'])\n",
        "\n",
        "# Train a logistic regression model\n",
        "model = LogisticRegression()\n",
        "model.fit(X_train_tfidf, train_df['airline_sentiment'])\n",
        "\n",
        "# Make predictions\n",
        "y_pred = model.predict(X_test_tfidf)\n",
        "\n",
        "# Evaluate the model\n",
        "accuracy_lr = accuracy_score(test_df['airline_sentiment'], y_pred)\n",
        "precision_lr = precision_score(test_df['airline_sentiment'], y_pred, average='weighted')\n",
        "f1_lr = f1_score(test_df['airline_sentiment'], y_pred, average='weighted')\n",
        "\n",
        "print(f\"Logistic Regression - Accuracy: {accuracy_lr}, Precision: {precision_lr}, F1 Score: {f1_lr}\")"
      ]
    },
    {
      "cell_type": "markdown",
      "id": "a7f6b153",
      "metadata": {
        "id": "a7f6b153"
      },
      "source": [
        "### ML #2 BERT Fine-tuning"
      ]
    },
    {
      "cell_type": "code",
      "execution_count": null,
      "id": "da3464a7-fc41-436d-bbcb-77ad660b0aed",
      "metadata": {
        "id": "da3464a7-fc41-436d-bbcb-77ad660b0aed",
        "outputId": "602ae20d-b692-467a-f8cd-289d0593196a"
      },
      "outputs": [
        {
          "name": "stdout",
          "output_type": "stream",
          "text": [
            "using device: cuda\n"
          ]
        },
        {
          "name": "stderr",
          "output_type": "stream",
          "text": [
            "Some weights of BertForSequenceClassification were not initialized from the model checkpoint at bert-base-uncased and are newly initialized: ['classifier.bias', 'classifier.weight']\n",
            "You should probably TRAIN this model on a down-stream task to be able to use it for predictions and inference.\n",
            "C:\\Users\\easyb\\Anaconda3\\envs\\superprof-gpu\\Lib\\site-packages\\transformers\\optimization.py:588: FutureWarning: This implementation of AdamW is deprecated and will be removed in a future version. Use the PyTorch implementation torch.optim.AdamW instead, or set `no_deprecation_warning=True` to disable this warning\n",
            "  warnings.warn(\n"
          ]
        }
      ],
      "source": [
        "import torch\n",
        "from torch.utils.data import DataLoader, Dataset\n",
        "from transformers import BertTokenizer, BertForSequenceClassification, AdamW\n",
        "from sklearn.metrics import accuracy_score, precision_score, f1_score\n",
        "import numpy as np\n",
        "import pandas as pd\n",
        "\n",
        "# Define a mapping from sentiment labels to numerical values\n",
        "label_mapping = {'negative': 0, 'neutral': 1, 'positive': 2}\n",
        "\n",
        "# Apply the mapping to the sentiment columns in the DataFrames\n",
        "train_df['airline_sentiment_id'] = train_df['airline_sentiment'].map(label_mapping)\n",
        "val_df['airline_sentiment_id'] = val_df['airline_sentiment'].map(label_mapping)\n",
        "test_df['airline_sentiment_id'] = test_df['airline_sentiment'].map(label_mapping)\n",
        "\n",
        "# Tokenize the text data\n",
        "tokenizer = BertTokenizer.from_pretrained('bert-base-uncased')\n",
        "X_train_tokens = tokenizer(train_df['text'].tolist(), padding=True, truncation=True, return_tensors='pt')\n",
        "X_val_tokens = tokenizer(val_df['text'].tolist(), padding=True, truncation=True, return_tensors='pt')\n",
        "X_test_tokens = tokenizer(test_df['text'].tolist(), padding=True, truncation=True, return_tensors='pt')\n",
        "\n",
        "# Create a custom dataset\n",
        "class TextDataset(Dataset):\n",
        "    def __init__(self, tokens, labels):\n",
        "        self.tokens = tokens\n",
        "        self.labels = labels\n",
        "\n",
        "    def __len__(self):\n",
        "        return len(self.labels)\n",
        "\n",
        "    def __getitem__(self, idx):\n",
        "        return {key: val[idx] for key, val in self.tokens.items()}, self.labels[idx]\n",
        "\n",
        "train_dataset = TextDataset(X_train_tokens, torch.tensor(train_df['airline_sentiment_id'].values, dtype=torch.long))\n",
        "val_dataset = TextDataset(X_val_tokens, torch.tensor(val_df['airline_sentiment_id'].values, dtype=torch.long))\n",
        "test_dataset = TextDataset(X_test_tokens, torch.tensor(test_df['airline_sentiment_id'].values, dtype=torch.long))\n",
        "\n",
        "train_loader = DataLoader(train_dataset, batch_size=16, shuffle=True)\n",
        "val_loader = DataLoader(val_dataset, batch_size=16, shuffle=False)\n",
        "test_loader = DataLoader(test_dataset, batch_size=16, shuffle=False)\n",
        "\n",
        "# Check if GPU is available\n",
        "device = torch.device('cuda' if torch.cuda.is_available() else 'cpu')\n",
        "print('using device:', device)\n",
        "\n",
        "# Initialize the BERT model\n",
        "model = BertForSequenceClassification.from_pretrained('bert-base-uncased', num_labels=3)\n",
        "model.to(device)\n",
        "\n",
        "optimizer = AdamW(model.parameters(), lr=2e-5)\n",
        "\n",
        "# Training function\n",
        "def train(model, train_loader, optimizer, device):\n",
        "    model.train()\n",
        "    total_loss = 0\n",
        "    correct_predictions = 0\n",
        "    total_predictions = 0\n",
        "\n",
        "    for batch in train_loader:\n",
        "        tokens, labels = batch\n",
        "        tokens = {key: val.to(device) for key, val in tokens.items()}\n",
        "        labels = labels.to(device)\n",
        "\n",
        "        optimizer.zero_grad()\n",
        "        outputs = model(**tokens, labels=labels)\n",
        "        loss = outputs.loss\n",
        "        loss.backward()\n",
        "        optimizer.step()\n",
        "\n",
        "        total_loss += loss.item()\n",
        "        _, predicted = torch.max(outputs.logits, 1)\n",
        "        correct_predictions += (predicted == labels).sum().item()\n",
        "        total_predictions += labels.size(0)\n",
        "\n",
        "    avg_loss = total_loss / len(train_loader)\n",
        "    accuracy = correct_predictions / total_predictions\n",
        "    return avg_loss, accuracy\n",
        "\n",
        "# Validation function\n",
        "def validate(model, val_loader, device):\n",
        "    model.eval()\n",
        "    total_loss = 0\n",
        "    correct_predictions = 0\n",
        "    total_predictions = 0\n",
        "\n",
        "    with torch.no_grad():\n",
        "        for batch in val_loader:\n",
        "            tokens, labels = batch\n",
        "            tokens = {key: val.to(device) for key, val in tokens.items()}\n",
        "            labels = labels.to(device)\n",
        "\n",
        "            outputs = model(**tokens, labels=labels)\n",
        "            loss = outputs.loss\n",
        "\n",
        "            total_loss += loss.item()\n",
        "            _, predicted = torch.max(outputs.logits, 1)\n",
        "            correct_predictions += (predicted == labels).sum().item()\n",
        "            total_predictions += labels.size(0)\n",
        "\n",
        "    avg_loss = total_loss / len(val_loader)\n",
        "    accuracy = correct_predictions / total_predictions\n",
        "    return avg_loss, accuracy"
      ]
    },
    {
      "cell_type": "markdown",
      "id": "8121adc8-3896-4c1d-993f-846230c4dc65",
      "metadata": {
        "id": "8121adc8-3896-4c1d-993f-846230c4dc65"
      },
      "source": [
        "### Training\n",
        "- **Attention**:\n",
        "    - The training is long and it may need a GPU for accelerating training\n",
        "    - The trained model can be download here: https://1drv.ms/u/s!ApH9RKcWDsubh9A3JAlhWeA7kvKvWA?e=Sz5G3s\n",
        "    - After downloading the trained model, you can pass to the next cell to load it and run the reference"
      ]
    },
    {
      "cell_type": "code",
      "execution_count": null,
      "id": "243078d1-689c-4193-9d33-44bae35703bf",
      "metadata": {
        "id": "243078d1-689c-4193-9d33-44bae35703bf",
        "outputId": "da429879-7a0e-4870-8ddc-08751953d34f"
      },
      "outputs": [
        {
          "name": "stdout",
          "output_type": "stream",
          "text": [
            "using device: cuda\n"
          ]
        },
        {
          "name": "stderr",
          "output_type": "stream",
          "text": [
            "Some weights of BertForSequenceClassification were not initialized from the model checkpoint at bert-base-uncased and are newly initialized: ['classifier.bias', 'classifier.weight']\n",
            "You should probably TRAIN this model on a down-stream task to be able to use it for predictions and inference.\n",
            "C:\\Users\\easyb\\Anaconda3\\envs\\superprof-gpu\\Lib\\site-packages\\transformers\\optimization.py:588: FutureWarning: This implementation of AdamW is deprecated and will be removed in a future version. Use the PyTorch implementation torch.optim.AdamW instead, or set `no_deprecation_warning=True` to disable this warning\n",
            "  warnings.warn(\n",
            "C:\\Users\\easyb\\Anaconda3\\envs\\superprof-gpu\\Lib\\site-packages\\transformers\\models\\bert\\modeling_bert.py:435: UserWarning: 1Torch was not compiled with flash attention. (Triggered internally at ..\\aten\\src\\ATen\\native\\transformers\\cuda\\sdp_utils.cpp:455.)\n",
            "  attn_output = torch.nn.functional.scaled_dot_product_attention(\n"
          ]
        },
        {
          "name": "stdout",
          "output_type": "stream",
          "text": [
            "Epoch 1/3\n",
            "Train Loss: 0.6148, Train Accuracy: 0.7561\n",
            "Validation Loss: 0.5834, Validation Accuracy: 0.7658\n",
            "Epoch 2/3\n",
            "Train Loss: 0.3827, Train Accuracy: 0.8599\n",
            "Validation Loss: 0.5873, Validation Accuracy: 0.7479\n",
            "Epoch 3/3\n",
            "Train Loss: 0.2378, Train Accuracy: 0.9196\n",
            "Validation Loss: 0.6441, Validation Accuracy: 0.7827\n",
            "BERT - Accuracy: 0.8176691729323309, Precision: 0.8177828281534756, F1 Score: 0.8177184095589666\n"
          ]
        }
      ],
      "source": [
        "# Train the model and log the metrics\n",
        "num_epochs = 3\n",
        "for epoch in range(num_epochs):\n",
        "    train_loss, train_accuracy = train(model, train_loader, optimizer, device)\n",
        "    val_loss, val_accuracy = validate(model, val_loader, device)\n",
        "\n",
        "    print(f\"Epoch {epoch + 1}/{num_epochs}\")\n",
        "    print(f\"Train Loss: {train_loss:.4f}, Train Accuracy: {train_accuracy:.4f}\")\n",
        "    print(f\"Validation Loss: {val_loss:.4f}, Validation Accuracy: {val_accuracy:.4f}\")\n",
        "\n",
        "# Evaluate the model on the test set\n",
        "model.eval()\n",
        "y_pred = []\n",
        "y_true = []\n",
        "with torch.no_grad():\n",
        "    for batch in test_loader:\n",
        "        tokens, labels = batch\n",
        "        tokens = {key: val.to(device) for key, val in tokens.items()}\n",
        "        labels = labels.to(device)\n",
        "\n",
        "        outputs = model(**tokens)\n",
        "        _, predicted = torch.max(outputs.logits, 1)\n",
        "        y_pred.extend(predicted.tolist())\n",
        "        y_true.extend(labels.tolist())\n",
        "\n",
        "accuracy_bert = accuracy_score(y_true, y_pred)\n",
        "precision_bert = precision_score(y_true, y_pred, average='weighted')\n",
        "f1_bert = f1_score(y_true, y_pred, average='weighted')\n",
        "\n",
        "print(f\"BERT - Accuracy: {accuracy_bert}, Precision: {precision_bert}, F1 Score: {f1_bert}\")\n",
        "\n",
        "# Save the model\n",
        "model_save_path = 'fine_tuned_bert_airline_sentiment_model.pt'\n",
        "torch.save(model.state_dict(), model_save_path)\n",
        "print(f\"Model saved to {model_save_path}\")"
      ]
    },
    {
      "cell_type": "markdown",
      "id": "36d5c3ee",
      "metadata": {
        "id": "36d5c3ee"
      },
      "source": [
        "### Reload fine-tuned BERT model and do inference"
      ]
    },
    {
      "cell_type": "code",
      "execution_count": null,
      "id": "9257f6af",
      "metadata": {
        "id": "9257f6af",
        "outputId": "9fb87c48-0a90-4fea-eb6d-df0dd9b6b62d"
      },
      "outputs": [
        {
          "name": "stderr",
          "output_type": "stream",
          "text": [
            "Some weights of BertForSequenceClassification were not initialized from the model checkpoint at bert-base-uncased and are newly initialized: ['classifier.bias', 'classifier.weight']\n",
            "You should probably TRAIN this model on a down-stream task to be able to use it for predictions and inference.\n"
          ]
        },
        {
          "name": "stdout",
          "output_type": "stream",
          "text": [
            "Model loaded from fine_tuned_bert_airline_sentiment_model.pt\n"
          ]
        },
        {
          "name": "stderr",
          "output_type": "stream",
          "text": [
            "C:\\Users\\easyb\\Anaconda3\\envs\\superprof-gpu\\Lib\\site-packages\\transformers\\models\\bert\\modeling_bert.py:435: UserWarning: 1Torch was not compiled with flash attention. (Triggered internally at ..\\aten\\src\\ATen\\native\\transformers\\cuda\\sdp_utils.cpp:455.)\n",
            "  attn_output = torch.nn.functional.scaled_dot_product_attention(\n"
          ]
        },
        {
          "name": "stdout",
          "output_type": "stream",
          "text": [
            "BERT - Accuracy: 0.8176691729323309, Precision: 0.8177828281534756, F1 Score: 0.8177184095589666\n"
          ]
        }
      ],
      "source": [
        "model_save_path = 'fine_tuned_bert_airline_sentiment_model.pt'\n",
        "# Load the model\n",
        "model_loaded = BertForSequenceClassification.from_pretrained('bert-base-uncased', num_labels=3)\n",
        "model_loaded.load_state_dict(torch.load(model_save_path))\n",
        "model_loaded.to(device)\n",
        "print(f\"Model loaded from {model_save_path}\")\n",
        "\n",
        "# Evaluate the model on the test set\n",
        "model_loaded.eval()\n",
        "y_pred = []\n",
        "y_true = []\n",
        "with torch.no_grad():\n",
        "    for batch in test_loader:\n",
        "        tokens, labels = batch\n",
        "        tokens = {key: val.to(device) for key, val in tokens.items()}\n",
        "        labels = labels.to(device)\n",
        "\n",
        "        outputs = model_loaded(**tokens)\n",
        "        _, predicted = torch.max(outputs.logits, 1)\n",
        "        y_pred.extend(predicted.tolist())\n",
        "        y_true.extend(labels.tolist())\n",
        "\n",
        "accuracy_bert = accuracy_score(y_true, y_pred)\n",
        "precision_bert = precision_score(y_true, y_pred, average='weighted')\n",
        "f1_bert = f1_score(y_true, y_pred, average='weighted')\n",
        "\n",
        "print(f\"BERT - Accuracy: {accuracy_bert}, Precision: {precision_bert}, F1 Score: {f1_bert}\")"
      ]
    },
    {
      "cell_type": "markdown",
      "id": "9012f612",
      "metadata": {
        "id": "9012f612"
      },
      "source": [
        "## Comparing performence of different modeling methods"
      ]
    },
    {
      "cell_type": "code",
      "execution_count": null,
      "id": "e652ab52",
      "metadata": {
        "id": "e652ab52",
        "outputId": "b3a8c877-72b3-4989-dcfd-c061b247423a"
      },
      "outputs": [
        {
          "name": "stdout",
          "output_type": "stream",
          "text": [
            "Logistic Regression - Accuracy: 0.75, Precision: 0.7534922123623737, F1 Score: 0.7507287426614965\n",
            "Fine-tuned BERT - Accuracy: 0.8176691729323309, Precision: 0.8177828281534756, F1 Score: 0.8177184095589666\n"
          ]
        }
      ],
      "source": [
        "print(f\"Logistic Regression - Accuracy: {accuracy_lr}, Precision: {precision_lr}, F1 Score: {f1_lr}\")\n",
        "print(f\"Fine-tuned BERT - Accuracy: {accuracy_bert}, Precision: {precision_bert}, F1 Score: {f1_bert}\")"
      ]
    },
    {
      "cell_type": "markdown",
      "id": "03970210",
      "metadata": {
        "id": "03970210"
      },
      "source": [
        "## Conclusions\n",
        "- From the above result, tt can be conclude that\n",
        "    - Advanced method like fine-tuning BERT has outperformed classical ML methods like Logistic Regression\n",
        "    - With quite small training subset of 4962 samples, fine-tuned BERT model can obtain more than 80% of accuracy, precision and f1 scores, it is really interesting\n",
        "- Perspective:\n",
        "    - We can do better if I can train on larger balanced dataset\n",
        "      "
      ]
    },
    {
      "cell_type": "code",
      "execution_count": null,
      "id": "78db50e9",
      "metadata": {
        "id": "78db50e9"
      },
      "outputs": [],
      "source": []
    },
    {
      "cell_type": "markdown",
      "id": "3089c96a",
      "metadata": {
        "id": "3089c96a"
      },
      "source": [
        "# 3. Insightful Analytics on sentiment dataset 'sentiment_airline_on_tweets'\n",
        "- The objective is to\n",
        "    - Analyze trends in sentiment over time or across different topics.\n",
        "    - Visualize the results to provide actionable insights.\n",
        "    - Find correlation between features to drive decision making\n",
        "- For this purpose, we will work with the raw format of this dataset, including key features: airline_sentiment(14640 non-null), text(14640 non-null), negativereason(9178 non-null), airline(14640 non-null), tweet_created(14640 non-null)"
      ]
    },
    {
      "cell_type": "markdown",
      "id": "7a95950d",
      "metadata": {
        "id": "7a95950d"
      },
      "source": [
        "## Load dataset"
      ]
    },
    {
      "cell_type": "code",
      "execution_count": null,
      "id": "3a211c18",
      "metadata": {
        "id": "3a211c18",
        "outputId": "8c4c9c99-86b0-4d74-e69b-856cf4a1db4f"
      },
      "outputs": [
        {
          "data": {
            "text/html": [
              "<div>\n",
              "<style scoped>\n",
              "    .dataframe tbody tr th:only-of-type {\n",
              "        vertical-align: middle;\n",
              "    }\n",
              "\n",
              "    .dataframe tbody tr th {\n",
              "        vertical-align: top;\n",
              "    }\n",
              "\n",
              "    .dataframe thead th {\n",
              "        text-align: right;\n",
              "    }\n",
              "</style>\n",
              "<table border=\"1\" class=\"dataframe\">\n",
              "  <thead>\n",
              "    <tr style=\"text-align: right;\">\n",
              "      <th></th>\n",
              "      <th>tweet_id</th>\n",
              "      <th>airline_sentiment</th>\n",
              "      <th>airline_sentiment_confidence</th>\n",
              "      <th>negativereason</th>\n",
              "      <th>negativereason_confidence</th>\n",
              "      <th>airline</th>\n",
              "      <th>airline_sentiment_gold</th>\n",
              "      <th>name</th>\n",
              "      <th>negativereason_gold</th>\n",
              "      <th>retweet_count</th>\n",
              "      <th>text</th>\n",
              "      <th>tweet_coord</th>\n",
              "      <th>tweet_created</th>\n",
              "      <th>tweet_location</th>\n",
              "      <th>user_timezone</th>\n",
              "    </tr>\n",
              "  </thead>\n",
              "  <tbody>\n",
              "    <tr>\n",
              "      <th>0</th>\n",
              "      <td>570306133677760513</td>\n",
              "      <td>neutral</td>\n",
              "      <td>1.0000</td>\n",
              "      <td>NaN</td>\n",
              "      <td>NaN</td>\n",
              "      <td>Virgin America</td>\n",
              "      <td>NaN</td>\n",
              "      <td>cairdin</td>\n",
              "      <td>NaN</td>\n",
              "      <td>0</td>\n",
              "      <td>@VirginAmerica What @dhepburn said.</td>\n",
              "      <td>NaN</td>\n",
              "      <td>2015-02-24 11:35:52 -0800</td>\n",
              "      <td>NaN</td>\n",
              "      <td>Eastern Time (US &amp; Canada)</td>\n",
              "    </tr>\n",
              "    <tr>\n",
              "      <th>1</th>\n",
              "      <td>570301130888122368</td>\n",
              "      <td>positive</td>\n",
              "      <td>0.3486</td>\n",
              "      <td>NaN</td>\n",
              "      <td>0.0</td>\n",
              "      <td>Virgin America</td>\n",
              "      <td>NaN</td>\n",
              "      <td>jnardino</td>\n",
              "      <td>NaN</td>\n",
              "      <td>0</td>\n",
              "      <td>@VirginAmerica plus you've added commercials t...</td>\n",
              "      <td>NaN</td>\n",
              "      <td>2015-02-24 11:15:59 -0800</td>\n",
              "      <td>NaN</td>\n",
              "      <td>Pacific Time (US &amp; Canada)</td>\n",
              "    </tr>\n",
              "    <tr>\n",
              "      <th>2</th>\n",
              "      <td>570301083672813571</td>\n",
              "      <td>neutral</td>\n",
              "      <td>0.6837</td>\n",
              "      <td>NaN</td>\n",
              "      <td>NaN</td>\n",
              "      <td>Virgin America</td>\n",
              "      <td>NaN</td>\n",
              "      <td>yvonnalynn</td>\n",
              "      <td>NaN</td>\n",
              "      <td>0</td>\n",
              "      <td>@VirginAmerica I didn't today... Must mean I n...</td>\n",
              "      <td>NaN</td>\n",
              "      <td>2015-02-24 11:15:48 -0800</td>\n",
              "      <td>Lets Play</td>\n",
              "      <td>Central Time (US &amp; Canada)</td>\n",
              "    </tr>\n",
              "  </tbody>\n",
              "</table>\n",
              "</div>"
            ],
            "text/plain": [
              "             tweet_id airline_sentiment  airline_sentiment_confidence  \\\n",
              "0  570306133677760513           neutral                        1.0000   \n",
              "1  570301130888122368          positive                        0.3486   \n",
              "2  570301083672813571           neutral                        0.6837   \n",
              "\n",
              "  negativereason  negativereason_confidence         airline  \\\n",
              "0            NaN                        NaN  Virgin America   \n",
              "1            NaN                        0.0  Virgin America   \n",
              "2            NaN                        NaN  Virgin America   \n",
              "\n",
              "  airline_sentiment_gold        name negativereason_gold  retweet_count  \\\n",
              "0                    NaN     cairdin                 NaN              0   \n",
              "1                    NaN    jnardino                 NaN              0   \n",
              "2                    NaN  yvonnalynn                 NaN              0   \n",
              "\n",
              "                                                text tweet_coord  \\\n",
              "0                @VirginAmerica What @dhepburn said.         NaN   \n",
              "1  @VirginAmerica plus you've added commercials t...         NaN   \n",
              "2  @VirginAmerica I didn't today... Must mean I n...         NaN   \n",
              "\n",
              "               tweet_created tweet_location               user_timezone  \n",
              "0  2015-02-24 11:35:52 -0800            NaN  Eastern Time (US & Canada)  \n",
              "1  2015-02-24 11:15:59 -0800            NaN  Pacific Time (US & Canada)  \n",
              "2  2015-02-24 11:15:48 -0800      Lets Play  Central Time (US & Canada)  "
            ]
          },
          "execution_count": 35,
          "metadata": {},
          "output_type": "execute_result"
        }
      ],
      "source": [
        "import pandas as pd\n",
        "\n",
        "# Get dataset path\n",
        "df_path = './data/sentiment_airline_on_tweets/Tweets.csv'\n",
        "\n",
        "# Load dataset\n",
        "df = pd.read_csv(df_path)\n",
        "df.head(3)"
      ]
    },
    {
      "cell_type": "markdown",
      "id": "bf3eb484",
      "metadata": {
        "id": "bf3eb484"
      },
      "source": [
        "## EDA"
      ]
    },
    {
      "cell_type": "code",
      "execution_count": null,
      "id": "d18a2dc8",
      "metadata": {
        "id": "d18a2dc8",
        "outputId": "d3b10b37-5a26-4080-dfcf-0cc53a69e6eb"
      },
      "outputs": [
        {
          "data": {
            "text/plain": [
              "Index(['tweet_id', 'airline_sentiment', 'airline_sentiment_confidence',\n",
              "       'negativereason', 'negativereason_confidence', 'airline',\n",
              "       'airline_sentiment_gold', 'name', 'negativereason_gold',\n",
              "       'retweet_count', 'text', 'tweet_coord', 'tweet_created',\n",
              "       'tweet_location', 'user_timezone'],\n",
              "      dtype='object')"
            ]
          },
          "execution_count": 36,
          "metadata": {},
          "output_type": "execute_result"
        }
      ],
      "source": [
        "# Get dataset feature name\n",
        "df.columns"
      ]
    },
    {
      "cell_type": "code",
      "execution_count": null,
      "id": "da7a132b",
      "metadata": {
        "id": "da7a132b",
        "outputId": "28e8dd8c-8a6f-4e2a-97c3-c44d0b2a8766"
      },
      "outputs": [
        {
          "name": "stdout",
          "output_type": "stream",
          "text": [
            "<class 'pandas.core.frame.DataFrame'>\n",
            "RangeIndex: 14640 entries, 0 to 14639\n",
            "Data columns (total 15 columns):\n",
            " #   Column                        Non-Null Count  Dtype  \n",
            "---  ------                        --------------  -----  \n",
            " 0   tweet_id                      14640 non-null  int64  \n",
            " 1   airline_sentiment             14640 non-null  object \n",
            " 2   airline_sentiment_confidence  14640 non-null  float64\n",
            " 3   negativereason                9178 non-null   object \n",
            " 4   negativereason_confidence     10522 non-null  float64\n",
            " 5   airline                       14640 non-null  object \n",
            " 6   airline_sentiment_gold        40 non-null     object \n",
            " 7   name                          14640 non-null  object \n",
            " 8   negativereason_gold           32 non-null     object \n",
            " 9   retweet_count                 14640 non-null  int64  \n",
            " 10  text                          14640 non-null  object \n",
            " 11  tweet_coord                   1019 non-null   object \n",
            " 12  tweet_created                 14640 non-null  object \n",
            " 13  tweet_location                9907 non-null   object \n",
            " 14  user_timezone                 9820 non-null   object \n",
            "dtypes: float64(2), int64(2), object(11)\n",
            "memory usage: 1.7+ MB\n"
          ]
        }
      ],
      "source": [
        "# Get dataset info\n",
        "df.info()"
      ]
    },
    {
      "cell_type": "markdown",
      "id": "0dcf3680",
      "metadata": {
        "id": "0dcf3680"
      },
      "source": [
        "- **Remarks**: We can see that 'tweet_created' feature represents the timestamp values but it is saved in the 'object' format. We need to correct this"
      ]
    },
    {
      "cell_type": "markdown",
      "id": "e6aab67c",
      "metadata": {
        "id": "e6aab67c"
      },
      "source": [
        "## What is the time range covered by the dataset?"
      ]
    },
    {
      "cell_type": "code",
      "execution_count": null,
      "id": "3fec2d39",
      "metadata": {
        "id": "3fec2d39",
        "outputId": "58b03c37-abc2-457c-ed5f-b64511b48980"
      },
      "outputs": [
        {
          "name": "stdout",
          "output_type": "stream",
          "text": [
            "Earliest timestamp: 2015-02-16 23:36:05-08:00\n",
            "Latest timestamp: 2015-02-24 11:53:37-08:00\n"
          ]
        }
      ],
      "source": [
        "# Correct the timestamp format\n",
        "df['tweet_created'] = pd.to_datetime(df['tweet_created'])\n",
        "\n",
        "# Find the earliest timestamp\n",
        "earliest_timestamp = df['tweet_created'].min()\n",
        "\n",
        "# Find the latest timestamp\n",
        "latest_timestamp = df['tweet_created'].max()\n",
        "\n",
        "print(f\"Earliest timestamp: {earliest_timestamp}\")\n",
        "print(f\"Latest timestamp: {latest_timestamp}\")"
      ]
    },
    {
      "cell_type": "markdown",
      "id": "7a83eaba",
      "metadata": {
        "id": "7a83eaba"
      },
      "source": [
        "- **Remarks**: We can see that the dataset records the data over **8 days** from 2015-02-16 to 2015-02-24"
      ]
    },
    {
      "cell_type": "markdown",
      "id": "0334aa3d",
      "metadata": {
        "id": "0334aa3d"
      },
      "source": [
        "## How many Airways are involved in the dataset?"
      ]
    },
    {
      "cell_type": "code",
      "execution_count": null,
      "id": "d4342401",
      "metadata": {
        "id": "d4342401",
        "outputId": "a684e319-4248-4ba9-bd0e-736aecedab0f"
      },
      "outputs": [
        {
          "data": {
            "text/plain": [
              "airline\n",
              "United            3822\n",
              "US Airways        2913\n",
              "American          2759\n",
              "Southwest         2420\n",
              "Delta             2222\n",
              "Virgin America     504\n",
              "Name: count, dtype: int64"
            ]
          },
          "execution_count": 39,
          "metadata": {},
          "output_type": "execute_result"
        }
      ],
      "source": [
        "# Count airway companies\n",
        "df['airline'].value_counts().sort_values(ascending=False)"
      ]
    },
    {
      "cell_type": "markdown",
      "id": "76bfc781",
      "metadata": {
        "id": "76bfc781"
      },
      "source": [
        "- **Remarks**: It can be seen that there are **6** airways companies involved in this dataset. United has the greatest number of feedbacks with 3822, more than 7 times that of Virgin America"
      ]
    },
    {
      "cell_type": "markdown",
      "id": "00f9bb8b",
      "metadata": {
        "id": "00f9bb8b"
      },
      "source": [
        "## What is the distribution of sentiment class for each airway company?"
      ]
    },
    {
      "cell_type": "code",
      "execution_count": null,
      "id": "e2c7446b",
      "metadata": {
        "id": "e2c7446b",
        "outputId": "e65f2ab8-028e-4134-addb-0c33f729f6e1"
      },
      "outputs": [
        {
          "name": "stdout",
          "output_type": "stream",
          "text": [
            "airline_sentiment  negative  neutral  positive\n",
            "airline                                       \n",
            "American               1960      463       336\n",
            "Delta                   955      723       544\n",
            "Southwest              1186      664       570\n",
            "US Airways             2263      381       269\n",
            "United                 2633      697       492\n",
            "Virgin America          181      171       152\n"
          ]
        }
      ],
      "source": [
        "# Group by 'airline' and 'sentiment' and count the occurrences\n",
        "sentiment_distribution = df.groupby(['airline', 'airline_sentiment']).size().unstack(fill_value=0)\n",
        "\n",
        "# Display the DataFrame\n",
        "print(sentiment_distribution)"
      ]
    },
    {
      "cell_type": "code",
      "execution_count": null,
      "id": "514bc535",
      "metadata": {
        "id": "514bc535",
        "outputId": "b7aa2675-7590-4a1f-b500-70042bbe423d"
      },
      "outputs": [
        {
          "data": {
            "image/png": "[encoded data removed]",
            "text/plain": [
              "<Figure size 1000x600 with 1 Axes>"
            ]
          },
          "metadata": {},
          "output_type": "display_data"
        }
      ],
      "source": [
        "import pandas as pd\n",
        "import matplotlib.pyplot as plt\n",
        "\n",
        "# Plotting the bar chart\n",
        "ax = sentiment_distribution.plot(kind='bar', stacked=False, color=['red', 'blue', 'green'], figsize=(10, 6))\n",
        "\n",
        "# Adding labels and title\n",
        "plt.xlabel('Airline')\n",
        "plt.ylabel('Count')\n",
        "plt.title('Distribution of Sentiment Classes for Each Airline')\n",
        "plt.legend(title='Sentiment', labels=['Negative', 'Neutral', 'Positive'])\n",
        "plt.xticks(rotation=45)\n",
        "\n",
        "# Adding count annotations on top of each bar\n",
        "for p in ax.patches:\n",
        "    ax.annotate(str(int(p.get_height())), (p.get_x() * 1.005, p.get_height() * 1.005))\n",
        "\n",
        "plt.show()"
      ]
    },
    {
      "cell_type": "markdown",
      "id": "cc1dc3e0",
      "metadata": {
        "id": "cc1dc3e0"
      },
      "source": [
        "- **Remarks**:\n",
        "    - Virgin America has the least samples but the sentiment classes are quite equal, with around 30% each each sentiment class\n",
        "    - For other airways, the negative Tweets really dominate the positive and neutral groups, especially for United, US Airways and American airways.\n",
        "    - It can be concluded that the Tweets are mainly used to mention the negative sentiments"
      ]
    },
    {
      "cell_type": "markdown",
      "id": "ba080212",
      "metadata": {
        "id": "ba080212"
      },
      "source": [
        "## How many samples for each sentiment class?"
      ]
    },
    {
      "cell_type": "code",
      "execution_count": null,
      "id": "2280c920",
      "metadata": {
        "id": "2280c920",
        "outputId": "97148deb-eb86-4501-f400-3dfd6033d19f"
      },
      "outputs": [
        {
          "data": {
            "text/plain": [
              "airline_sentiment\n",
              "negative    9178\n",
              "neutral     3099\n",
              "positive    2363\n",
              "Name: count, dtype: int64"
            ]
          },
          "execution_count": 42,
          "metadata": {},
          "output_type": "execute_result"
        }
      ],
      "source": [
        "# Count sentiment sample for each sentiment class\n",
        "sentiment_counts = df['airline_sentiment'].value_counts().sort_values(ascending=False)\n",
        "sentiment_counts"
      ]
    },
    {
      "cell_type": "code",
      "execution_count": null,
      "id": "069aebd2",
      "metadata": {
        "id": "069aebd2",
        "outputId": "37229a0d-a4e3-4cc4-8ef7-a88c54c9f109"
      },
      "outputs": [
        {
          "data": {
            "image/png": "[encoded data removed]",
            "text/plain": [
              "<Figure size 800x600 with 1 Axes>"
            ]
          },
          "metadata": {},
          "output_type": "display_data"
        }
      ],
      "source": [
        "import matplotlib.pyplot as plt\n",
        "\n",
        "# Plotting the bar chart\n",
        "plt.figure(figsize=(8, 6))\n",
        "sentiment_counts.plot(kind='bar', color=['blue', 'green', 'red'])\n",
        "\n",
        "# Adding labels and title\n",
        "plt.xlabel('Sentiment')\n",
        "plt.ylabel('Count')\n",
        "plt.title('Count of Each Sentiment Class')\n",
        "plt.xticks(rotation=0)\n",
        "\n",
        "# Adding count annotations on top of each bar\n",
        "for i, count in enumerate(sentiment_counts):\n",
        "    plt.text(i, count + 50, str(count), ha='center', va='bottom')\n",
        "\n",
        "plt.show()"
      ]
    },
    {
      "cell_type": "markdown",
      "id": "7ac8e222",
      "metadata": {
        "id": "7ac8e222"
      },
      "source": [
        "- **Remarks**:\n",
        "    -  The number of negative sentiment is equal to the number of non-null values for the feature 'negativereason'. It's good for further analysis\n",
        "    -  The negative tweets are 3 and 4 times greater than its counterparts"
      ]
    },
    {
      "cell_type": "markdown",
      "id": "1d8949e3",
      "metadata": {
        "id": "1d8949e3"
      },
      "source": [
        "## What are the leading reasons causing the negative sentiments?"
      ]
    },
    {
      "cell_type": "code",
      "execution_count": null,
      "id": "fb5a997d",
      "metadata": {
        "id": "fb5a997d",
        "outputId": "68de73e5-d778-4220-8ab0-28dae27674ca"
      },
      "outputs": [
        {
          "data": {
            "text/plain": [
              "negativereason\n",
              "Customer Service Issue         2910\n",
              "Late Flight                    1665\n",
              "Can't Tell                     1190\n",
              "Cancelled Flight                847\n",
              "Lost Luggage                    724\n",
              "Bad Flight                      580\n",
              "Flight Booking Problems         529\n",
              "Flight Attendant Complaints     481\n",
              "longlines                       178\n",
              "Damaged Luggage                  74\n",
              "Name: count, dtype: int64"
            ]
          },
          "execution_count": 44,
          "metadata": {},
          "output_type": "execute_result"
        }
      ],
      "source": [
        "# Count genative reason\n",
        "negative_reasons = df['negativereason'].value_counts().sort_values(ascending=False)\n",
        "negative_reasons"
      ]
    },
    {
      "cell_type": "code",
      "execution_count": null,
      "id": "04caecea",
      "metadata": {
        "id": "04caecea",
        "outputId": "b08a7253-54fa-4efe-c302-dd3f571f9c94"
      },
      "outputs": [
        {
          "data": {
            "image/png": "[encoded data removed]",
            "text/plain": [
              "<Figure size 1200x800 with 1 Axes>"
            ]
          },
          "metadata": {},
          "output_type": "display_data"
        }
      ],
      "source": [
        "# Plotting the bar chart\n",
        "plt.figure(figsize=(12, 8))\n",
        "negative_reasons.plot(kind='bar', color='skyblue')\n",
        "\n",
        "# Adding labels and title\n",
        "plt.xlabel('Negative Reason')\n",
        "plt.ylabel('Count')\n",
        "plt.title('Count of Each Negative Reason')\n",
        "plt.xticks(rotation=45, ha='right')\n",
        "\n",
        "# Adding count annotations on top of each bar\n",
        "for i, count in enumerate(negative_reasons):\n",
        "    plt.text(i, count + 5, str(count), ha='center', va='bottom')\n",
        "\n",
        "plt.show()"
      ]
    },
    {
      "cell_type": "markdown",
      "id": "3a932414",
      "metadata": {
        "id": "3a932414"
      },
      "source": [
        "- **Remarks**\n",
        "    - The two biggest reasons for negative sentiments are Customer Service Issue and Late Flight, which account for 2910 and 1665 bad sentiment Tweets respectively\n",
        "    - It is supprising that the Damaged Luggage reason is responsible for only 74 negative Tweet.\n",
        "    - Based on these statistics the airway can find out the way to improve their services"
      ]
    },
    {
      "cell_type": "markdown",
      "id": "6b5b31a7",
      "metadata": {
        "id": "6b5b31a7"
      },
      "source": [
        "## Similarly, find negative reasons for a specific airline"
      ]
    },
    {
      "cell_type": "code",
      "execution_count": null,
      "id": "6ac06277",
      "metadata": {
        "id": "6ac06277",
        "outputId": "8c53278f-4e5e-4e32-82e6-c35892fdbfb3"
      },
      "outputs": [
        {
          "data": {
            "text/plain": [
              "negativereason\n",
              "Customer Service Issue         681\n",
              "Late Flight                    525\n",
              "Can't Tell                     379\n",
              "Lost Luggage                   269\n",
              "Bad Flight                     216\n",
              "Cancelled Flight               181\n",
              "Flight Attendant Complaints    168\n",
              "Flight Booking Problems        144\n",
              "longlines                       48\n",
              "Damaged Luggage                 22\n",
              "Name: count, dtype: int64"
            ]
          },
          "execution_count": 46,
          "metadata": {},
          "output_type": "execute_result"
        }
      ],
      "source": [
        "# For example 'United' airway\n",
        "# Count genative reason\n",
        "negative_reasons_united = df[df['airline'] == 'United']['negativereason'].value_counts().sort_values(ascending=False)\n",
        "negative_reasons_united"
      ]
    },
    {
      "cell_type": "code",
      "execution_count": null,
      "id": "9b23acee",
      "metadata": {
        "id": "9b23acee",
        "outputId": "1b66a63e-cf3b-4842-ec4f-011ac502ef4f"
      },
      "outputs": [
        {
          "data": {
            "image/png": "[encoded data removed]",
            "text/plain": [
              "<Figure size 1200x800 with 1 Axes>"
            ]
          },
          "metadata": {},
          "output_type": "display_data"
        }
      ],
      "source": [
        "# Plotting the bar chart\n",
        "plt.figure(figsize=(12, 8))\n",
        "negative_reasons_united.plot(kind='bar', color='skyblue')\n",
        "\n",
        "# Adding labels and title\n",
        "plt.xlabel('Negative Reason')\n",
        "plt.ylabel('Count')\n",
        "plt.title('United: Count of Each Negative Reason')\n",
        "plt.xticks(rotation=45, ha='right')\n",
        "\n",
        "# Adding count annotations on top of each bar\n",
        "for i, count in enumerate(negative_reasons_united):\n",
        "    plt.text(i, count + 5, str(count), ha='center', va='bottom')\n",
        "\n",
        "plt.show()"
      ]
    },
    {
      "cell_type": "markdown",
      "id": "f7814b66",
      "metadata": {
        "id": "f7814b66"
      },
      "source": [
        "## How was the flight by date"
      ]
    },
    {
      "cell_type": "code",
      "execution_count": null,
      "id": "bb9332de",
      "metadata": {
        "id": "bb9332de",
        "outputId": "632d678e-7fc4-4180-f026-f6350e33cc5a"
      },
      "outputs": [
        {
          "data": {
            "image/png": "[encoded data removed]",
            "text/plain": [
              "<Figure size 1400x800 with 1 Axes>"
            ]
          },
          "metadata": {},
          "output_type": "display_data"
        }
      ],
      "source": [
        "# Extract the date from 'tweet_created'\n",
        "df['date'] = df['tweet_created'].dt.date\n",
        "\n",
        "# Group by date and sentiment and count the occurrences\n",
        "sentiment_by_date = df.groupby(['date', 'airline_sentiment']).size().unstack(fill_value=0)\n",
        "\n",
        "# Plotting the bar chart\n",
        "ax = sentiment_by_date.plot(kind='bar', stacked=False, figsize=(14, 8), color=['red', 'blue', 'green'])\n",
        "\n",
        "# Adding labels and title\n",
        "plt.xlabel('Date')\n",
        "plt.ylabel('Count')\n",
        "plt.title('Sentiment Distribution by Date')\n",
        "plt.legend(title='Sentiment', labels=['Negative', 'Neutral', 'Positive'])\n",
        "plt.xticks(rotation=45, ha='right')\n",
        "\n",
        "# Adding count annotations on top of each bar\n",
        "for p in ax.patches:\n",
        "    ax.annotate(str(int(p.get_height())), (p.get_x() * 1.005, p.get_height() * 1.005))\n",
        "\n",
        "plt.show()"
      ]
    },
    {
      "cell_type": "markdown",
      "id": "79c4885a",
      "metadata": {
        "id": "79c4885a"
      },
      "source": [
        "- **Remarks**\n",
        "    - The worst day for airways is 2015-02-22 with 2266 negative comments, followed by the next day with 1919 negative feedbacks\n",
        "    - Everyday, the negative comments are always greater than its counterparts\n",
        "    - The first date, 2015-02-16, has very little comments. It can be understandable as we looked at the earlier analysis: Earliest timestamp: 2015-02-16 23:36:05-08:00, that date, dataset started at **23h36**"
      ]
    },
    {
      "cell_type": "markdown",
      "id": "2590a0f4",
      "metadata": {
        "id": "2590a0f4"
      },
      "source": [
        "# Conclusion\n",
        "- Based on the above facts and analysis, it can be deduced that\n",
        "    -  United, US Airways and American airways are the three worst airway\n",
        "    -  Customer Service Issue and Flight Late are the two biggest reasons for negative flight experience\n",
        "    -  February 22rd 2015 was the worst day for airway services\n",
        "    -  Flight Customers tend to use Tweets to express their unconformtable sentiments"
      ]
    },
    {
      "cell_type": "code",
      "execution_count": null,
      "id": "8ce97ad7",
      "metadata": {
        "id": "8ce97ad7"
      },
      "outputs": [],
      "source": []
    }
  ],
  "metadata": {
    "colab": {
      "provenance": []
    },
    "kernelspec": {
      "display_name": "Python 3 (ipykernel)",
      "language": "python",
      "name": "python3"
    },
    "language_info": {
      "codemirror_mode": {
        "name": "ipython",
        "version": 3
      },
      "file_extension": ".py",
      "mimetype": "text/x-python",
      "name": "python",
      "nbconvert_exporter": "python",
      "pygments_lexer": "ipython3",
      "version": "3.12.6"
    }
  },
  "nbformat": 4,
  "nbformat_minor": 5
}
